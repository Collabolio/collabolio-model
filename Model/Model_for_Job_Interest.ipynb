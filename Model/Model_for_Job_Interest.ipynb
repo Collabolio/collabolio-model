{
  "cells": [
    {
      "cell_type": "code",
      "source": [
        "!pip install -q tensorflow-recommenders"
      ],
      "metadata": {
        "id": "cKRdyLYlxYuA"
      },
      "execution_count": null,
      "outputs": []
    },
    {
      "cell_type": "code",
      "source": [
        "!pip install numpy==1.18.4"
      ],
      "metadata": {
        "colab": {
          "base_uri": "https://localhost:8080/"
        },
        "id": "FNsfcMd3ins_",
        "outputId": "875ed6d3-4cee-48b7-d2c9-02c859628725"
      },
      "execution_count": null,
      "outputs": [
        {
          "output_type": "stream",
          "name": "stdout",
          "text": [
            "Looking in indexes: https://pypi.org/simple, https://us-python.pkg.dev/colab-wheels/public/simple/\n",
            "Collecting numpy==1.18.4\n",
            "  Using cached numpy-1.18.4.zip (5.4 MB)\n",
            "  Installing build dependencies ... \u001b[?25l\u001b[?25hdone\n",
            "  Getting requirements to build wheel ... \u001b[?25l\u001b[?25hdone\n",
            "  Preparing metadata (pyproject.toml) ... \u001b[?25l\u001b[?25hdone\n",
            "Building wheels for collected packages: numpy\n",
            "  \u001b[1;31merror\u001b[0m: \u001b[1msubprocess-exited-with-error\u001b[0m\n",
            "  \n",
            "  \u001b[31m×\u001b[0m \u001b[32mBuilding wheel for numpy \u001b[0m\u001b[1;32m(\u001b[0m\u001b[32mpyproject.toml\u001b[0m\u001b[1;32m)\u001b[0m did not run successfully.\n",
            "  \u001b[31m│\u001b[0m exit code: \u001b[1;36m1\u001b[0m\n",
            "  \u001b[31m╰─>\u001b[0m See above for output.\n",
            "  \n",
            "  \u001b[1;35mnote\u001b[0m: This error originates from a subprocess, and is likely not a problem with pip.\n",
            "  Building wheel for numpy (pyproject.toml) ... \u001b[?25l\u001b[?25herror\n",
            "\u001b[31m  ERROR: Failed building wheel for numpy\u001b[0m\u001b[31m\n",
            "\u001b[0mFailed to build numpy\n",
            "\u001b[31mERROR: Could not build wheels for numpy, which is required to install pyproject.toml-based projects\u001b[0m\u001b[31m\n",
            "\u001b[0m"
          ]
        }
      ]
    },
    {
      "cell_type": "code",
      "source": [
        "!pip install tensorflow"
      ],
      "metadata": {
        "colab": {
          "base_uri": "https://localhost:8080/"
        },
        "id": "rQmLlDZ8tJU-",
        "outputId": "5613b3e2-cc59-46cb-dcc4-6cd62431426d"
      },
      "execution_count": null,
      "outputs": [
        {
          "output_type": "stream",
          "name": "stdout",
          "text": [
            "Looking in indexes: https://pypi.org/simple, https://us-python.pkg.dev/colab-wheels/public/simple/\n",
            "Requirement already satisfied: tensorflow in /usr/local/lib/python3.10/dist-packages (2.12.0)\n",
            "Requirement already satisfied: absl-py>=1.0.0 in /usr/local/lib/python3.10/dist-packages (from tensorflow) (1.4.0)\n",
            "Requirement already satisfied: astunparse>=1.6.0 in /usr/local/lib/python3.10/dist-packages (from tensorflow) (1.6.3)\n",
            "Requirement already satisfied: flatbuffers>=2.0 in /usr/local/lib/python3.10/dist-packages (from tensorflow) (23.3.3)\n",
            "Requirement already satisfied: gast<=0.4.0,>=0.2.1 in /usr/local/lib/python3.10/dist-packages (from tensorflow) (0.4.0)\n",
            "Requirement already satisfied: google-pasta>=0.1.1 in /usr/local/lib/python3.10/dist-packages (from tensorflow) (0.2.0)\n",
            "Requirement already satisfied: grpcio<2.0,>=1.24.3 in /usr/local/lib/python3.10/dist-packages (from tensorflow) (1.54.0)\n",
            "Requirement already satisfied: h5py>=2.9.0 in /usr/local/lib/python3.10/dist-packages (from tensorflow) (3.8.0)\n",
            "Requirement already satisfied: jax>=0.3.15 in /usr/local/lib/python3.10/dist-packages (from tensorflow) (0.4.10)\n",
            "Requirement already satisfied: keras<2.13,>=2.12.0 in /usr/local/lib/python3.10/dist-packages (from tensorflow) (2.12.0)\n",
            "Requirement already satisfied: libclang>=13.0.0 in /usr/local/lib/python3.10/dist-packages (from tensorflow) (16.0.0)\n",
            "Requirement already satisfied: numpy<1.24,>=1.22 in /usr/local/lib/python3.10/dist-packages (from tensorflow) (1.22.4)\n",
            "Requirement already satisfied: opt-einsum>=2.3.2 in /usr/local/lib/python3.10/dist-packages (from tensorflow) (3.3.0)\n",
            "Requirement already satisfied: packaging in /usr/local/lib/python3.10/dist-packages (from tensorflow) (23.1)\n",
            "Requirement already satisfied: protobuf!=4.21.0,!=4.21.1,!=4.21.2,!=4.21.3,!=4.21.4,!=4.21.5,<5.0.0dev,>=3.20.3 in /usr/local/lib/python3.10/dist-packages (from tensorflow) (3.20.3)\n",
            "Requirement already satisfied: setuptools in /usr/local/lib/python3.10/dist-packages (from tensorflow) (67.7.2)\n",
            "Requirement already satisfied: six>=1.12.0 in /usr/local/lib/python3.10/dist-packages (from tensorflow) (1.16.0)\n",
            "Requirement already satisfied: tensorboard<2.13,>=2.12 in /usr/local/lib/python3.10/dist-packages (from tensorflow) (2.12.2)\n",
            "Requirement already satisfied: tensorflow-estimator<2.13,>=2.12.0 in /usr/local/lib/python3.10/dist-packages (from tensorflow) (2.12.0)\n",
            "Requirement already satisfied: termcolor>=1.1.0 in /usr/local/lib/python3.10/dist-packages (from tensorflow) (2.3.0)\n",
            "Requirement already satisfied: typing-extensions>=3.6.6 in /usr/local/lib/python3.10/dist-packages (from tensorflow) (4.5.0)\n",
            "Requirement already satisfied: wrapt<1.15,>=1.11.0 in /usr/local/lib/python3.10/dist-packages (from tensorflow) (1.14.1)\n",
            "Requirement already satisfied: tensorflow-io-gcs-filesystem>=0.23.1 in /usr/local/lib/python3.10/dist-packages (from tensorflow) (0.32.0)\n",
            "Requirement already satisfied: wheel<1.0,>=0.23.0 in /usr/local/lib/python3.10/dist-packages (from astunparse>=1.6.0->tensorflow) (0.40.0)\n",
            "Requirement already satisfied: ml-dtypes>=0.1.0 in /usr/local/lib/python3.10/dist-packages (from jax>=0.3.15->tensorflow) (0.1.0)\n",
            "Requirement already satisfied: scipy>=1.7 in /usr/local/lib/python3.10/dist-packages (from jax>=0.3.15->tensorflow) (1.10.1)\n",
            "Requirement already satisfied: google-auth<3,>=1.6.3 in /usr/local/lib/python3.10/dist-packages (from tensorboard<2.13,>=2.12->tensorflow) (2.17.3)\n",
            "Requirement already satisfied: google-auth-oauthlib<1.1,>=0.5 in /usr/local/lib/python3.10/dist-packages (from tensorboard<2.13,>=2.12->tensorflow) (1.0.0)\n",
            "Requirement already satisfied: markdown>=2.6.8 in /usr/local/lib/python3.10/dist-packages (from tensorboard<2.13,>=2.12->tensorflow) (3.4.3)\n",
            "Requirement already satisfied: requests<3,>=2.21.0 in /usr/local/lib/python3.10/dist-packages (from tensorboard<2.13,>=2.12->tensorflow) (2.27.1)\n",
            "Requirement already satisfied: tensorboard-data-server<0.8.0,>=0.7.0 in /usr/local/lib/python3.10/dist-packages (from tensorboard<2.13,>=2.12->tensorflow) (0.7.0)\n",
            "Requirement already satisfied: tensorboard-plugin-wit>=1.6.0 in /usr/local/lib/python3.10/dist-packages (from tensorboard<2.13,>=2.12->tensorflow) (1.8.1)\n",
            "Requirement already satisfied: werkzeug>=1.0.1 in /usr/local/lib/python3.10/dist-packages (from tensorboard<2.13,>=2.12->tensorflow) (2.3.0)\n",
            "Requirement already satisfied: cachetools<6.0,>=2.0.0 in /usr/local/lib/python3.10/dist-packages (from google-auth<3,>=1.6.3->tensorboard<2.13,>=2.12->tensorflow) (5.3.0)\n",
            "Requirement already satisfied: pyasn1-modules>=0.2.1 in /usr/local/lib/python3.10/dist-packages (from google-auth<3,>=1.6.3->tensorboard<2.13,>=2.12->tensorflow) (0.3.0)\n",
            "Requirement already satisfied: rsa<5,>=3.1.4 in /usr/local/lib/python3.10/dist-packages (from google-auth<3,>=1.6.3->tensorboard<2.13,>=2.12->tensorflow) (4.9)\n",
            "Requirement already satisfied: requests-oauthlib>=0.7.0 in /usr/local/lib/python3.10/dist-packages (from google-auth-oauthlib<1.1,>=0.5->tensorboard<2.13,>=2.12->tensorflow) (1.3.1)\n",
            "Requirement already satisfied: urllib3<1.27,>=1.21.1 in /usr/local/lib/python3.10/dist-packages (from requests<3,>=2.21.0->tensorboard<2.13,>=2.12->tensorflow) (1.26.15)\n",
            "Requirement already satisfied: certifi>=2017.4.17 in /usr/local/lib/python3.10/dist-packages (from requests<3,>=2.21.0->tensorboard<2.13,>=2.12->tensorflow) (2022.12.7)\n",
            "Requirement already satisfied: charset-normalizer~=2.0.0 in /usr/local/lib/python3.10/dist-packages (from requests<3,>=2.21.0->tensorboard<2.13,>=2.12->tensorflow) (2.0.12)\n",
            "Requirement already satisfied: idna<4,>=2.5 in /usr/local/lib/python3.10/dist-packages (from requests<3,>=2.21.0->tensorboard<2.13,>=2.12->tensorflow) (3.4)\n",
            "Requirement already satisfied: MarkupSafe>=2.1.1 in /usr/local/lib/python3.10/dist-packages (from werkzeug>=1.0.1->tensorboard<2.13,>=2.12->tensorflow) (2.1.2)\n",
            "Requirement already satisfied: pyasn1<0.6.0,>=0.4.6 in /usr/local/lib/python3.10/dist-packages (from pyasn1-modules>=0.2.1->google-auth<3,>=1.6.3->tensorboard<2.13,>=2.12->tensorflow) (0.5.0)\n",
            "Requirement already satisfied: oauthlib>=3.0.0 in /usr/local/lib/python3.10/dist-packages (from requests-oauthlib>=0.7.0->google-auth-oauthlib<1.1,>=0.5->tensorboard<2.13,>=2.12->tensorflow) (3.2.2)\n"
          ]
        }
      ]
    },
    {
      "cell_type": "code",
      "source": [
        "from google.colab import drive\n",
        "drive.mount('/content/drive')"
      ],
      "metadata": {
        "colab": {
          "base_uri": "https://localhost:8080/"
        },
        "id": "komivYJjxebb",
        "outputId": "3e8cdba9-e516-4bb2-923b-10c118049047"
      },
      "execution_count": null,
      "outputs": [
        {
          "output_type": "stream",
          "name": "stdout",
          "text": [
            "Drive already mounted at /content/drive; to attempt to forcibly remount, call drive.mount(\"/content/drive\", force_remount=True).\n"
          ]
        }
      ]
    },
    {
      "cell_type": "code",
      "source": [
        "import os\n",
        "import pprint\n",
        "import pandas as pd\n",
        "import tempfile\n",
        "from typing import Dict, Text\n",
        "import numpy as np\n",
        "import tensorflow as tf\n",
        "import tensorflow_recommenders as tfrs"
      ],
      "metadata": {
        "id": "IjlT-lkXGjtk"
      },
      "execution_count": null,
      "outputs": []
    },
    {
      "cell_type": "code",
      "source": [
        "class Config: \n",
        "    \n",
        "    embedding_dimension = 32\n",
        "    \n",
        "    model_path = \"model.tf\"\n",
        "    \n",
        "config = Config()"
      ],
      "metadata": {
        "id": "o59ZlWU7ydCO"
      },
      "execution_count": null,
      "outputs": []
    },
    {
      "cell_type": "code",
      "source": [
        "# user data.\n",
        "df = pd.read_csv('/content/data.csv')\n",
        "# Features of job_interest.\n",
        "jobs = pd.read_csv('/content/data2.csv')"
      ],
      "metadata": {
        "id": "zJ_ZdSZHIQQw"
      },
      "execution_count": null,
      "outputs": []
    },
    {
      "cell_type": "code",
      "source": [
        "df[\"skills\"] = df['skill_1'].astype(str) +\", \"+ df['skill_2'].astype(str) +\", \"+ df['skill_3'].astype(str) +\", \"+ df['skill_4'].astype(str)"
      ],
      "metadata": {
        "id": "xtNaVvfsyYQS"
      },
      "execution_count": null,
      "outputs": []
    },
    {
      "cell_type": "code",
      "source": [
        "skills = df[['id', 'name', 'skills', 'job_interest']]\n",
        "skills"
      ],
      "metadata": {
        "colab": {
          "base_uri": "https://localhost:8080/",
          "height": 424
        },
        "id": "bC41M2-GzRCW",
        "outputId": "042555cf-4180-4064-d8de-f0f989aa5a37"
      },
      "execution_count": null,
      "outputs": [
        {
          "output_type": "execute_result",
          "data": {
            "text/plain": [
              "         id              name  \\\n",
              "0    AAJ603  Chris Westphalen   \n",
              "1    HNA156      Koral Nilges   \n",
              "2    FND122       Biron Mavin   \n",
              "3    FMD294   Rurik Iwanowicz   \n",
              "4    XVU891      Bobbee Foord   \n",
              "..      ...               ...   \n",
              "495  JCH211    Hendrika Amoss   \n",
              "496  KWK881      Sile Watsham   \n",
              "497  BUX671        Dolf Gavin   \n",
              "498  EYD719   Linnea Houndsom   \n",
              "499  UVX498    Kelvin Ansteys   \n",
              "\n",
              "                                                skills  \\\n",
              "0    PHP, Visual Design, Google Cloud, Flutter Deve...   \n",
              "1    Node.js, Information Architecture, Salesforce ...   \n",
              "2    C#, Wireframing, Google Cloud, Flutter Develop...   \n",
              "3    SQL, Usability Testing, DigitalOcean, Android ...   \n",
              "4       Node.js, Wireframing, AWS, Flutter Development   \n",
              "..                                                 ...   \n",
              "495      React, Decision Trees, Xamarin, Digital Ocean   \n",
              "496         Django, Classification, Java, Google Cloud   \n",
              "497      HTML/CSS, Random Forest, Ionic, Alibaba Cloud   \n",
              "498          Angular, Naive Bayes, Ionic, VMware Cloud   \n",
              "499               C#, Regression, Swift, Alibaba Cloud   \n",
              "\n",
              "                             job_interest  \n",
              "0                          .NET Developer  \n",
              "1                    Advance Data Analyst  \n",
              "2                           AI Researcher  \n",
              "3                       android architect  \n",
              "4                       Android Developer  \n",
              "..                                    ...  \n",
              "495                          Web Designer  \n",
              "496                         Web Developer  \n",
              "497    Web Service Integration Specialist  \n",
              "498         Windows Application Developer  \n",
              "499  Wireless Network Security Specialist  \n",
              "\n",
              "[500 rows x 4 columns]"
            ],
            "text/html": [
              "\n",
              "  <div id=\"df-c038d0a3-71f5-4036-aeae-e68c33497c8c\">\n",
              "    <div class=\"colab-df-container\">\n",
              "      <div>\n",
              "<style scoped>\n",
              "    .dataframe tbody tr th:only-of-type {\n",
              "        vertical-align: middle;\n",
              "    }\n",
              "\n",
              "    .dataframe tbody tr th {\n",
              "        vertical-align: top;\n",
              "    }\n",
              "\n",
              "    .dataframe thead th {\n",
              "        text-align: right;\n",
              "    }\n",
              "</style>\n",
              "<table border=\"1\" class=\"dataframe\">\n",
              "  <thead>\n",
              "    <tr style=\"text-align: right;\">\n",
              "      <th></th>\n",
              "      <th>id</th>\n",
              "      <th>name</th>\n",
              "      <th>skills</th>\n",
              "      <th>job_interest</th>\n",
              "    </tr>\n",
              "  </thead>\n",
              "  <tbody>\n",
              "    <tr>\n",
              "      <th>0</th>\n",
              "      <td>AAJ603</td>\n",
              "      <td>Chris Westphalen</td>\n",
              "      <td>PHP, Visual Design, Google Cloud, Flutter Deve...</td>\n",
              "      <td>.NET Developer</td>\n",
              "    </tr>\n",
              "    <tr>\n",
              "      <th>1</th>\n",
              "      <td>HNA156</td>\n",
              "      <td>Koral Nilges</td>\n",
              "      <td>Node.js, Information Architecture, Salesforce ...</td>\n",
              "      <td>Advance Data Analyst</td>\n",
              "    </tr>\n",
              "    <tr>\n",
              "      <th>2</th>\n",
              "      <td>FND122</td>\n",
              "      <td>Biron Mavin</td>\n",
              "      <td>C#, Wireframing, Google Cloud, Flutter Develop...</td>\n",
              "      <td>AI Researcher</td>\n",
              "    </tr>\n",
              "    <tr>\n",
              "      <th>3</th>\n",
              "      <td>FMD294</td>\n",
              "      <td>Rurik Iwanowicz</td>\n",
              "      <td>SQL, Usability Testing, DigitalOcean, Android ...</td>\n",
              "      <td>android architect</td>\n",
              "    </tr>\n",
              "    <tr>\n",
              "      <th>4</th>\n",
              "      <td>XVU891</td>\n",
              "      <td>Bobbee Foord</td>\n",
              "      <td>Node.js, Wireframing, AWS, Flutter Development</td>\n",
              "      <td>Android Developer</td>\n",
              "    </tr>\n",
              "    <tr>\n",
              "      <th>...</th>\n",
              "      <td>...</td>\n",
              "      <td>...</td>\n",
              "      <td>...</td>\n",
              "      <td>...</td>\n",
              "    </tr>\n",
              "    <tr>\n",
              "      <th>495</th>\n",
              "      <td>JCH211</td>\n",
              "      <td>Hendrika Amoss</td>\n",
              "      <td>React, Decision Trees, Xamarin, Digital Ocean</td>\n",
              "      <td>Web Designer</td>\n",
              "    </tr>\n",
              "    <tr>\n",
              "      <th>496</th>\n",
              "      <td>KWK881</td>\n",
              "      <td>Sile Watsham</td>\n",
              "      <td>Django, Classification, Java, Google Cloud</td>\n",
              "      <td>Web Developer</td>\n",
              "    </tr>\n",
              "    <tr>\n",
              "      <th>497</th>\n",
              "      <td>BUX671</td>\n",
              "      <td>Dolf Gavin</td>\n",
              "      <td>HTML/CSS, Random Forest, Ionic, Alibaba Cloud</td>\n",
              "      <td>Web Service Integration Specialist</td>\n",
              "    </tr>\n",
              "    <tr>\n",
              "      <th>498</th>\n",
              "      <td>EYD719</td>\n",
              "      <td>Linnea Houndsom</td>\n",
              "      <td>Angular, Naive Bayes, Ionic, VMware Cloud</td>\n",
              "      <td>Windows Application Developer</td>\n",
              "    </tr>\n",
              "    <tr>\n",
              "      <th>499</th>\n",
              "      <td>UVX498</td>\n",
              "      <td>Kelvin Ansteys</td>\n",
              "      <td>C#, Regression, Swift, Alibaba Cloud</td>\n",
              "      <td>Wireless Network Security Specialist</td>\n",
              "    </tr>\n",
              "  </tbody>\n",
              "</table>\n",
              "<p>500 rows × 4 columns</p>\n",
              "</div>\n",
              "      <button class=\"colab-df-convert\" onclick=\"convertToInteractive('df-c038d0a3-71f5-4036-aeae-e68c33497c8c')\"\n",
              "              title=\"Convert this dataframe to an interactive table.\"\n",
              "              style=\"display:none;\">\n",
              "        \n",
              "  <svg xmlns=\"http://www.w3.org/2000/svg\" height=\"24px\"viewBox=\"0 0 24 24\"\n",
              "       width=\"24px\">\n",
              "    <path d=\"M0 0h24v24H0V0z\" fill=\"none\"/>\n",
              "    <path d=\"M18.56 5.44l.94 2.06.94-2.06 2.06-.94-2.06-.94-.94-2.06-.94 2.06-2.06.94zm-11 1L8.5 8.5l.94-2.06 2.06-.94-2.06-.94L8.5 2.5l-.94 2.06-2.06.94zm10 10l.94 2.06.94-2.06 2.06-.94-2.06-.94-.94-2.06-.94 2.06-2.06.94z\"/><path d=\"M17.41 7.96l-1.37-1.37c-.4-.4-.92-.59-1.43-.59-.52 0-1.04.2-1.43.59L10.3 9.45l-7.72 7.72c-.78.78-.78 2.05 0 2.83L4 21.41c.39.39.9.59 1.41.59.51 0 1.02-.2 1.41-.59l7.78-7.78 2.81-2.81c.8-.78.8-2.07 0-2.86zM5.41 20L4 18.59l7.72-7.72 1.47 1.35L5.41 20z\"/>\n",
              "  </svg>\n",
              "      </button>\n",
              "      \n",
              "  <style>\n",
              "    .colab-df-container {\n",
              "      display:flex;\n",
              "      flex-wrap:wrap;\n",
              "      gap: 12px;\n",
              "    }\n",
              "\n",
              "    .colab-df-convert {\n",
              "      background-color: #E8F0FE;\n",
              "      border: none;\n",
              "      border-radius: 50%;\n",
              "      cursor: pointer;\n",
              "      display: none;\n",
              "      fill: #1967D2;\n",
              "      height: 32px;\n",
              "      padding: 0 0 0 0;\n",
              "      width: 32px;\n",
              "    }\n",
              "\n",
              "    .colab-df-convert:hover {\n",
              "      background-color: #E2EBFA;\n",
              "      box-shadow: 0px 1px 2px rgba(60, 64, 67, 0.3), 0px 1px 3px 1px rgba(60, 64, 67, 0.15);\n",
              "      fill: #174EA6;\n",
              "    }\n",
              "\n",
              "    [theme=dark] .colab-df-convert {\n",
              "      background-color: #3B4455;\n",
              "      fill: #D2E3FC;\n",
              "    }\n",
              "\n",
              "    [theme=dark] .colab-df-convert:hover {\n",
              "      background-color: #434B5C;\n",
              "      box-shadow: 0px 1px 3px 1px rgba(0, 0, 0, 0.15);\n",
              "      filter: drop-shadow(0px 1px 2px rgba(0, 0, 0, 0.3));\n",
              "      fill: #FFFFFF;\n",
              "    }\n",
              "  </style>\n",
              "\n",
              "      <script>\n",
              "        const buttonEl =\n",
              "          document.querySelector('#df-c038d0a3-71f5-4036-aeae-e68c33497c8c button.colab-df-convert');\n",
              "        buttonEl.style.display =\n",
              "          google.colab.kernel.accessAllowed ? 'block' : 'none';\n",
              "\n",
              "        async function convertToInteractive(key) {\n",
              "          const element = document.querySelector('#df-c038d0a3-71f5-4036-aeae-e68c33497c8c');\n",
              "          const dataTable =\n",
              "            await google.colab.kernel.invokeFunction('convertToInteractive',\n",
              "                                                     [key], {});\n",
              "          if (!dataTable) return;\n",
              "\n",
              "          const docLinkHtml = 'Like what you see? Visit the ' +\n",
              "            '<a target=\"_blank\" href=https://colab.research.google.com/notebooks/data_table.ipynb>data table notebook</a>'\n",
              "            + ' to learn more about interactive tables.';\n",
              "          element.innerHTML = '';\n",
              "          dataTable['output_type'] = 'display_data';\n",
              "          await google.colab.output.renderOutput(dataTable, element);\n",
              "          const docLink = document.createElement('div');\n",
              "          docLink.innerHTML = docLinkHtml;\n",
              "          element.appendChild(docLink);\n",
              "        }\n",
              "      </script>\n",
              "    </div>\n",
              "  </div>\n",
              "  "
            ]
          },
          "metadata": {},
          "execution_count": 28
        }
      ]
    },
    {
      "cell_type": "code",
      "source": [
        "skills = tf.data.Dataset.from_tensor_slices(dict(skills))\n",
        "jobs = tf.data.Dataset.from_tensor_slices(dict(jobs))"
      ],
      "metadata": {
        "id": "XxRNr6BUiY1y"
      },
      "execution_count": null,
      "outputs": []
    },
    {
      "cell_type": "code",
      "source": [
        "# get the first rows of the job_interest dataset\n",
        "for m in jobs.take(100):\n",
        "  print(m)"
      ],
      "metadata": {
        "id": "SVSULG9nwADW",
        "colab": {
          "base_uri": "https://localhost:8080/"
        },
        "outputId": "1ecc57e1-5357-4ffe-d927-51c53e81cd6e"
      },
      "execution_count": null,
      "outputs": [
        {
          "output_type": "stream",
          "name": "stdout",
          "text": [
            "{'id': <tf.Tensor: shape=(), dtype=string, numpy=b'xc1'>, 'job_interest': <tf.Tensor: shape=(), dtype=string, numpy=b'.NET Developer'>}\n",
            "{'id': <tf.Tensor: shape=(), dtype=string, numpy=b'xc2'>, 'job_interest': <tf.Tensor: shape=(), dtype=string, numpy=b'Advance Data Analyst'>}\n",
            "{'id': <tf.Tensor: shape=(), dtype=string, numpy=b'xc3'>, 'job_interest': <tf.Tensor: shape=(), dtype=string, numpy=b'AI Researcher'>}\n",
            "{'id': <tf.Tensor: shape=(), dtype=string, numpy=b'xc4'>, 'job_interest': <tf.Tensor: shape=(), dtype=string, numpy=b'android architect'>}\n",
            "{'id': <tf.Tensor: shape=(), dtype=string, numpy=b'xc5'>, 'job_interest': <tf.Tensor: shape=(), dtype=string, numpy=b'Android Developer'>}\n",
            "{'id': <tf.Tensor: shape=(), dtype=string, numpy=b'xc6'>, 'job_interest': <tf.Tensor: shape=(), dtype=string, numpy=b'Android Engineer'>}\n",
            "{'id': <tf.Tensor: shape=(), dtype=string, numpy=b'xc7'>, 'job_interest': <tf.Tensor: shape=(), dtype=string, numpy=b'Android Technical developer'>}\n",
            "{'id': <tf.Tensor: shape=(), dtype=string, numpy=b'xc8'>, 'job_interest': <tf.Tensor: shape=(), dtype=string, numpy=b'API Developer Specialist'>}\n",
            "{'id': <tf.Tensor: shape=(), dtype=string, numpy=b'xc9'>, 'job_interest': <tf.Tensor: shape=(), dtype=string, numpy=b'Application Integration Specialist'>}\n",
            "{'id': <tf.Tensor: shape=(), dtype=string, numpy=b'xc10'>, 'job_interest': <tf.Tensor: shape=(), dtype=string, numpy=b'Application Security Specialist'>}\n",
            "{'id': <tf.Tensor: shape=(), dtype=string, numpy=b'xc11'>, 'job_interest': <tf.Tensor: shape=(), dtype=string, numpy=b'Artificial Intelligence Engineer'>}\n",
            "{'id': <tf.Tensor: shape=(), dtype=string, numpy=b'xc12'>, 'job_interest': <tf.Tensor: shape=(), dtype=string, numpy=b'Back end developer'>}\n",
            "{'id': <tf.Tensor: shape=(), dtype=string, numpy=b'xc13'>, 'job_interest': <tf.Tensor: shape=(), dtype=string, numpy=b'Big Data Specialist'>}\n",
            "{'id': <tf.Tensor: shape=(), dtype=string, numpy=b'xc14'>, 'job_interest': <tf.Tensor: shape=(), dtype=string, numpy=b'Blockchain Developer'>}\n",
            "{'id': <tf.Tensor: shape=(), dtype=string, numpy=b'xc15'>, 'job_interest': <tf.Tensor: shape=(), dtype=string, numpy=b'Business Analyst'>}\n",
            "{'id': <tf.Tensor: shape=(), dtype=string, numpy=b'xc16'>, 'job_interest': <tf.Tensor: shape=(), dtype=string, numpy=b'Business Intelligence Specialist'>}\n",
            "{'id': <tf.Tensor: shape=(), dtype=string, numpy=b'xc17'>, 'job_interest': <tf.Tensor: shape=(), dtype=string, numpy=b'C++ Developer'>}\n",
            "{'id': <tf.Tensor: shape=(), dtype=string, numpy=b'xc18'>, 'job_interest': <tf.Tensor: shape=(), dtype=string, numpy=b'Cloud Administrator'>}\n",
            "{'id': <tf.Tensor: shape=(), dtype=string, numpy=b'xc19'>, 'job_interest': <tf.Tensor: shape=(), dtype=string, numpy=b'Cloud Architect'>}\n",
            "{'id': <tf.Tensor: shape=(), dtype=string, numpy=b'xc20'>, 'job_interest': <tf.Tensor: shape=(), dtype=string, numpy=b'Cloud Business System Integration Specialist'>}\n",
            "{'id': <tf.Tensor: shape=(), dtype=string, numpy=b'xc21'>, 'job_interest': <tf.Tensor: shape=(), dtype=string, numpy=b'Cloud Consultant'>}\n",
            "{'id': <tf.Tensor: shape=(), dtype=string, numpy=b'xc22'>, 'job_interest': <tf.Tensor: shape=(), dtype=string, numpy=b'Cloud Developer'>}\n",
            "{'id': <tf.Tensor: shape=(), dtype=string, numpy=b'xc23'>, 'job_interest': <tf.Tensor: shape=(), dtype=string, numpy=b'Cloud Security Engineer'>}\n",
            "{'id': <tf.Tensor: shape=(), dtype=string, numpy=b'xc24'>, 'job_interest': <tf.Tensor: shape=(), dtype=string, numpy=b'Cloud Solutions Architect'>}\n",
            "{'id': <tf.Tensor: shape=(), dtype=string, numpy=b'xc25'>, 'job_interest': <tf.Tensor: shape=(), dtype=string, numpy=b'Cloud Solutions Architect'>}\n",
            "{'id': <tf.Tensor: shape=(), dtype=string, numpy=b'xc26'>, 'job_interest': <tf.Tensor: shape=(), dtype=string, numpy=b'Computer Vision Engineering'>}\n",
            "{'id': <tf.Tensor: shape=(), dtype=string, numpy=b'xc27'>, 'job_interest': <tf.Tensor: shape=(), dtype=string, numpy=b'Content Management System Specialist'>}\n",
            "{'id': <tf.Tensor: shape=(), dtype=string, numpy=b'xc28'>, 'job_interest': <tf.Tensor: shape=(), dtype=string, numpy=b'Cross-Platform Mobile App Security Specialist'>}\n",
            "{'id': <tf.Tensor: shape=(), dtype=string, numpy=b'xc29'>, 'job_interest': <tf.Tensor: shape=(), dtype=string, numpy=b'Cybersecurity Analyst'>}\n",
            "{'id': <tf.Tensor: shape=(), dtype=string, numpy=b'xc30'>, 'job_interest': <tf.Tensor: shape=(), dtype=string, numpy=b'Cybersecurity Specialist'>}\n",
            "{'id': <tf.Tensor: shape=(), dtype=string, numpy=b'xc31'>, 'job_interest': <tf.Tensor: shape=(), dtype=string, numpy=b'Data Analyst'>}\n",
            "{'id': <tf.Tensor: shape=(), dtype=string, numpy=b'xc32'>, 'job_interest': <tf.Tensor: shape=(), dtype=string, numpy=b'Data Center Specialist'>}\n",
            "{'id': <tf.Tensor: shape=(), dtype=string, numpy=b'xc33'>, 'job_interest': <tf.Tensor: shape=(), dtype=string, numpy=b'Data Integration Specialist'>}\n",
            "{'id': <tf.Tensor: shape=(), dtype=string, numpy=b'xc34'>, 'job_interest': <tf.Tensor: shape=(), dtype=string, numpy=b'Data Management Specialist'>}\n",
            "{'id': <tf.Tensor: shape=(), dtype=string, numpy=b'xc35'>, 'job_interest': <tf.Tensor: shape=(), dtype=string, numpy=b'Data Mining Specislist'>}\n",
            "{'id': <tf.Tensor: shape=(), dtype=string, numpy=b'xc36'>, 'job_interest': <tf.Tensor: shape=(), dtype=string, numpy=b'Data Modeling Specialist'>}\n",
            "{'id': <tf.Tensor: shape=(), dtype=string, numpy=b'xc37'>, 'job_interest': <tf.Tensor: shape=(), dtype=string, numpy=b'Data Privacy Officer'>}\n",
            "{'id': <tf.Tensor: shape=(), dtype=string, numpy=b'xc38'>, 'job_interest': <tf.Tensor: shape=(), dtype=string, numpy=b'Data Science'>}\n",
            "{'id': <tf.Tensor: shape=(), dtype=string, numpy=b'xc39'>, 'job_interest': <tf.Tensor: shape=(), dtype=string, numpy=b'Data Storage Specialist'>}\n",
            "{'id': <tf.Tensor: shape=(), dtype=string, numpy=b'xc40'>, 'job_interest': <tf.Tensor: shape=(), dtype=string, numpy=b'Database Administrator'>}\n",
            "{'id': <tf.Tensor: shape=(), dtype=string, numpy=b'xc41'>, 'job_interest': <tf.Tensor: shape=(), dtype=string, numpy=b'Database Design'>}\n",
            "{'id': <tf.Tensor: shape=(), dtype=string, numpy=b'xc42'>, 'job_interest': <tf.Tensor: shape=(), dtype=string, numpy=b'Deep Learing Engineer'>}\n",
            "{'id': <tf.Tensor: shape=(), dtype=string, numpy=b'xc43'>, 'job_interest': <tf.Tensor: shape=(), dtype=string, numpy=b'Dekstop Application Security Specialist'>}\n",
            "{'id': <tf.Tensor: shape=(), dtype=string, numpy=b'xc44'>, 'job_interest': <tf.Tensor: shape=(), dtype=string, numpy=b'Design Grafis'>}\n",
            "{'id': <tf.Tensor: shape=(), dtype=string, numpy=b'xc45'>, 'job_interest': <tf.Tensor: shape=(), dtype=string, numpy=b'DevOps Engineer'>}\n",
            "{'id': <tf.Tensor: shape=(), dtype=string, numpy=b'xc46'>, 'job_interest': <tf.Tensor: shape=(), dtype=string, numpy=b'Digital Identity Management Specialist'>}\n",
            "{'id': <tf.Tensor: shape=(), dtype=string, numpy=b'xc47'>, 'job_interest': <tf.Tensor: shape=(), dtype=string, numpy=b'Disaster Recovery Specialist'>}\n",
            "{'id': <tf.Tensor: shape=(), dtype=string, numpy=b'xc48'>, 'job_interest': <tf.Tensor: shape=(), dtype=string, numpy=b'E-Commarce Specialist'>}\n",
            "{'id': <tf.Tensor: shape=(), dtype=string, numpy=b'xc49'>, 'job_interest': <tf.Tensor: shape=(), dtype=string, numpy=b'Embedded Systems Programmer'>}\n",
            "{'id': <tf.Tensor: shape=(), dtype=string, numpy=b'xc50'>, 'job_interest': <tf.Tensor: shape=(), dtype=string, numpy=b'Enterprise System Integration Specialist'>}\n",
            "{'id': <tf.Tensor: shape=(), dtype=string, numpy=b'xc51'>, 'job_interest': <tf.Tensor: shape=(), dtype=string, numpy=b'Flutter Developer'>}\n",
            "{'id': <tf.Tensor: shape=(), dtype=string, numpy=b'xc52'>, 'job_interest': <tf.Tensor: shape=(), dtype=string, numpy=b'Front end developer'>}\n",
            "{'id': <tf.Tensor: shape=(), dtype=string, numpy=b'xc53'>, 'job_interest': <tf.Tensor: shape=(), dtype=string, numpy=b'full stack developer'>}\n",
            "{'id': <tf.Tensor: shape=(), dtype=string, numpy=b'xc54'>, 'job_interest': <tf.Tensor: shape=(), dtype=string, numpy=b'Game Developer'>}\n",
            "{'id': <tf.Tensor: shape=(), dtype=string, numpy=b'xc55'>, 'job_interest': <tf.Tensor: shape=(), dtype=string, numpy=b'Geospatial Data Analyst'>}\n",
            "{'id': <tf.Tensor: shape=(), dtype=string, numpy=b'xc56'>, 'job_interest': <tf.Tensor: shape=(), dtype=string, numpy=b'Hardware Developer'>}\n",
            "{'id': <tf.Tensor: shape=(), dtype=string, numpy=b'xc57'>, 'job_interest': <tf.Tensor: shape=(), dtype=string, numpy=b'Identity and Access Management Specialist'>}\n",
            "{'id': <tf.Tensor: shape=(), dtype=string, numpy=b'xc58'>, 'job_interest': <tf.Tensor: shape=(), dtype=string, numpy=b'Information Security Management System Specialist'>}\n",
            "{'id': <tf.Tensor: shape=(), dtype=string, numpy=b'xc59'>, 'job_interest': <tf.Tensor: shape=(), dtype=string, numpy=b'IoT Specialist'>}\n",
            "{'id': <tf.Tensor: shape=(), dtype=string, numpy=b'xc60'>, 'job_interest': <tf.Tensor: shape=(), dtype=string, numpy=b'IT Capacity Planning Specialist'>}\n",
            "{'id': <tf.Tensor: shape=(), dtype=string, numpy=b'xc61'>, 'job_interest': <tf.Tensor: shape=(), dtype=string, numpy=b'IT Consultant'>}\n",
            "{'id': <tf.Tensor: shape=(), dtype=string, numpy=b'xc62'>, 'job_interest': <tf.Tensor: shape=(), dtype=string, numpy=b'IT Costumer Support Specialist'>}\n",
            "{'id': <tf.Tensor: shape=(), dtype=string, numpy=b'xc63'>, 'job_interest': <tf.Tensor: shape=(), dtype=string, numpy=b'IT Insfrastructure Specialist'>}\n",
            "{'id': <tf.Tensor: shape=(), dtype=string, numpy=b'xc64'>, 'job_interest': <tf.Tensor: shape=(), dtype=string, numpy=b'IT Project Manager'>}\n",
            "{'id': <tf.Tensor: shape=(), dtype=string, numpy=b'xc65'>, 'job_interest': <tf.Tensor: shape=(), dtype=string, numpy=b'IT Support Specialist'>}\n",
            "{'id': <tf.Tensor: shape=(), dtype=string, numpy=b'xc66'>, 'job_interest': <tf.Tensor: shape=(), dtype=string, numpy=b'Java Developer'>}\n",
            "{'id': <tf.Tensor: shape=(), dtype=string, numpy=b'xc67'>, 'job_interest': <tf.Tensor: shape=(), dtype=string, numpy=b'JavaScript Developer'>}\n",
            "{'id': <tf.Tensor: shape=(), dtype=string, numpy=b'xc68'>, 'job_interest': <tf.Tensor: shape=(), dtype=string, numpy=b'Laravel Developer'>}\n",
            "{'id': <tf.Tensor: shape=(), dtype=string, numpy=b'xc69'>, 'job_interest': <tf.Tensor: shape=(), dtype=string, numpy=b'Machine Learning Engineer'>}\n",
            "{'id': <tf.Tensor: shape=(), dtype=string, numpy=b'xc70'>, 'job_interest': <tf.Tensor: shape=(), dtype=string, numpy=b'Mobile Game Developer'>}\n",
            "{'id': <tf.Tensor: shape=(), dtype=string, numpy=b'xc71'>, 'job_interest': <tf.Tensor: shape=(), dtype=string, numpy=b'Natural Language Processing Spesialist'>}\n",
            "{'id': <tf.Tensor: shape=(), dtype=string, numpy=b'xc72'>, 'job_interest': <tf.Tensor: shape=(), dtype=string, numpy=b'Network Administrator'>}\n",
            "{'id': <tf.Tensor: shape=(), dtype=string, numpy=b'xc73'>, 'job_interest': <tf.Tensor: shape=(), dtype=string, numpy=b'Operating System Specialist'>}\n",
            "{'id': <tf.Tensor: shape=(), dtype=string, numpy=b'xc74'>, 'job_interest': <tf.Tensor: shape=(), dtype=string, numpy=b'PHP Developer'>}\n",
            "{'id': <tf.Tensor: shape=(), dtype=string, numpy=b'xc75'>, 'job_interest': <tf.Tensor: shape=(), dtype=string, numpy=b'Product Manager'>}\n",
            "{'id': <tf.Tensor: shape=(), dtype=string, numpy=b'xc76'>, 'job_interest': <tf.Tensor: shape=(), dtype=string, numpy=b'Python developer'>}\n",
            "{'id': <tf.Tensor: shape=(), dtype=string, numpy=b'xc77'>, 'job_interest': <tf.Tensor: shape=(), dtype=string, numpy=b'R Programmer'>}\n",
            "{'id': <tf.Tensor: shape=(), dtype=string, numpy=b'xc78'>, 'job_interest': <tf.Tensor: shape=(), dtype=string, numpy=b'Research and Developer Specialist'>}\n",
            "{'id': <tf.Tensor: shape=(), dtype=string, numpy=b'xc79'>, 'job_interest': <tf.Tensor: shape=(), dtype=string, numpy=b'Robotic Process Automation Specialist'>}\n",
            "{'id': <tf.Tensor: shape=(), dtype=string, numpy=b'xc80'>, 'job_interest': <tf.Tensor: shape=(), dtype=string, numpy=b'Ruby Developer'>}\n",
            "{'id': <tf.Tensor: shape=(), dtype=string, numpy=b'xc81'>, 'job_interest': <tf.Tensor: shape=(), dtype=string, numpy=b'Sentiment Analyst Specialist'>}\n",
            "{'id': <tf.Tensor: shape=(), dtype=string, numpy=b'xc82'>, 'job_interest': <tf.Tensor: shape=(), dtype=string, numpy=b'SEO Specialist'>}\n",
            "{'id': <tf.Tensor: shape=(), dtype=string, numpy=b'xc83'>, 'job_interest': <tf.Tensor: shape=(), dtype=string, numpy=b'Software Developer'>}\n",
            "{'id': <tf.Tensor: shape=(), dtype=string, numpy=b'xc84'>, 'job_interest': <tf.Tensor: shape=(), dtype=string, numpy=b'Software Engineer'>}\n",
            "{'id': <tf.Tensor: shape=(), dtype=string, numpy=b'xc85'>, 'job_interest': <tf.Tensor: shape=(), dtype=string, numpy=b'Software Quality Assurance Analyst'>}\n",
            "{'id': <tf.Tensor: shape=(), dtype=string, numpy=b'xc86'>, 'job_interest': <tf.Tensor: shape=(), dtype=string, numpy=b'Software Tester'>}\n",
            "{'id': <tf.Tensor: shape=(), dtype=string, numpy=b'xc87'>, 'job_interest': <tf.Tensor: shape=(), dtype=string, numpy=b'Solution Architect'>}\n",
            "{'id': <tf.Tensor: shape=(), dtype=string, numpy=b'xc88'>, 'job_interest': <tf.Tensor: shape=(), dtype=string, numpy=b'System Administrator'>}\n",
            "{'id': <tf.Tensor: shape=(), dtype=string, numpy=b'xc89'>, 'job_interest': <tf.Tensor: shape=(), dtype=string, numpy=b'System Design Specialist'>}\n",
            "{'id': <tf.Tensor: shape=(), dtype=string, numpy=b'xc90'>, 'job_interest': <tf.Tensor: shape=(), dtype=string, numpy=b'System Integration Specialist'>}\n",
            "{'id': <tf.Tensor: shape=(), dtype=string, numpy=b'xc91'>, 'job_interest': <tf.Tensor: shape=(), dtype=string, numpy=b'Technical Writer'>}\n",
            "{'id': <tf.Tensor: shape=(), dtype=string, numpy=b'xc92'>, 'job_interest': <tf.Tensor: shape=(), dtype=string, numpy=b'UI/UX designer'>}\n",
            "{'id': <tf.Tensor: shape=(), dtype=string, numpy=b'xc93'>, 'job_interest': <tf.Tensor: shape=(), dtype=string, numpy=b'Virtualization Specialist'>}\n",
            "{'id': <tf.Tensor: shape=(), dtype=string, numpy=b'xc94'>, 'job_interest': <tf.Tensor: shape=(), dtype=string, numpy=b'Web Analyst'>}\n",
            "{'id': <tf.Tensor: shape=(), dtype=string, numpy=b'xc95'>, 'job_interest': <tf.Tensor: shape=(), dtype=string, numpy=b'Web Application Security Specialist'>}\n",
            "{'id': <tf.Tensor: shape=(), dtype=string, numpy=b'xc96'>, 'job_interest': <tf.Tensor: shape=(), dtype=string, numpy=b'Web Designer'>}\n",
            "{'id': <tf.Tensor: shape=(), dtype=string, numpy=b'xc97'>, 'job_interest': <tf.Tensor: shape=(), dtype=string, numpy=b'Web Developer'>}\n",
            "{'id': <tf.Tensor: shape=(), dtype=string, numpy=b'xc98'>, 'job_interest': <tf.Tensor: shape=(), dtype=string, numpy=b'Web Service Integration Specialist'>}\n",
            "{'id': <tf.Tensor: shape=(), dtype=string, numpy=b'xc99'>, 'job_interest': <tf.Tensor: shape=(), dtype=string, numpy=b'Windows Application Developer'>}\n",
            "{'id': <tf.Tensor: shape=(), dtype=string, numpy=b'xc100'>, 'job_interest': <tf.Tensor: shape=(), dtype=string, numpy=b'Wireless Network Security Specialist'>}\n"
          ]
        }
      ]
    },
    {
      "cell_type": "code",
      "source": [
        "skills = skills.map(lambda x: {\n",
        "    \"id\": x[\"id\"],\n",
        "    \"name\": x[\"name\"],\n",
        "    \"job_interest\": x[\"job_interest\"]\n",
        "})\n",
        "jobs = jobs.map(lambda x: {\n",
        "    \"id\": x[\"id\"],\n",
        "    \"job_interest\": x[\"job_interest\"]}) "
      ],
      "metadata": {
        "id": "EoxDyBiTik3Y"
      },
      "execution_count": null,
      "outputs": []
    },
    {
      "cell_type": "code",
      "source": [
        "skills_array = []\n",
        "jobs_array = []\n",
        "for data in skills:\n",
        "    skills_array.append(data['id'].numpy().decode())\n",
        "for data in jobs:\n",
        "    jobs_array.append(data['job_interest'].numpy().decode())\n",
        "\n",
        "#skills_array = tf.squeeze(skills).numpy().astype(str).tolist()\n",
        "#jobs_array = tf.squeeze(jobs).numpy().astype(str).tolist()\n",
        "\n",
        "user_ids_vocabulary = tf.keras.layers.StringLookup()\n",
        "user_ids_vocabulary.adapt(skills_array)\n",
        "\n",
        "jobs_titles_vocabulary = tf.keras.layers.StringLookup()\n",
        "jobs_titles_vocabulary.adapt(jobs_array)"
      ],
      "metadata": {
        "id": "InwN_KJEi6RI"
      },
      "execution_count": null,
      "outputs": []
    },
    {
      "cell_type": "code",
      "source": [
        "class JobLensModel(tfrs.Model):\n",
        "  # We derive from a custom base class to help reduce boilerplate. Under the hood,\n",
        "  # these are still plain Keras Models.\n",
        " \n",
        "  def __init__(\n",
        "      self,\n",
        "      user_model: tf.keras.Model,\n",
        "      jobs_model: tf.keras.Model,\n",
        "      task: tfrs.tasks.Retrieval):\n",
        "    super().__init__()\n",
        " \n",
        "    # Set up user and job_interest representations.\n",
        "    self.user_model = user_model\n",
        "    self.jobs_model = jobs_model\n",
        " \n",
        "    # Set up a retrieval task.\n",
        "    self.task = task\n",
        " \n",
        "  def compute_loss(self, features: Dict[Text, tf.Tensor], training=False) -> tf.Tensor:\n",
        "    # Define how the loss is computed.\n",
        " \n",
        "    user_embeddings = self.user_model(features[\"id\"])\n",
        "    jobs_embeddings = self.jobs_model(features[\"job_interest\"])\n",
        " \n",
        "    return self.task(user_embeddings, jobs_embeddings)"
      ],
      "metadata": {
        "id": "VFS2PxdPjxUJ"
      },
      "execution_count": null,
      "outputs": []
    },
    {
      "cell_type": "code",
      "source": [
        "# Define user and job_interest models.\n",
        "user_model = tf.keras.Sequential([\n",
        "    tf.keras.Input(shape=[], dtype=tf.string, name='id'),\n",
        "    user_ids_vocabulary,\n",
        "    tf.keras.layers.Embedding(user_ids_vocabulary.vocabulary_size(), 64)\n",
        "])\n",
        "jobs_model = tf.keras.Sequential([\n",
        "    tf.keras.Input(shape=[], dtype=tf.string, name='job_interest'),\n",
        "    jobs_titles_vocabulary,\n",
        "    tf.keras.layers.Embedding(jobs_titles_vocabulary.vocabulary_size(), 64)\n",
        "])\n",
        "\n",
        "# Define your objectives.\n",
        "task = tfrs.tasks.Retrieval(\n",
        "    metrics=tfrs.metrics.FactorizedTopK(\n",
        "        jobs.batch(128).map(jobs_model)\n",
        "    )\n",
        ")"
      ],
      "metadata": {
        "id": "GCpvAr2TkAqz",
        "colab": {
          "base_uri": "https://localhost:8080/"
        },
        "outputId": "65c8e570-a8a5-401e-defd-e69b08e57c12"
      },
      "execution_count": null,
      "outputs": [
        {
          "output_type": "stream",
          "name": "stderr",
          "text": [
            "/usr/local/lib/python3.10/dist-packages/keras/engine/functional.py:639: UserWarning: Input dict contained keys ['id'] which did not match any model input. They will be ignored by the model.\n",
            "  inputs = self._flatten_to_reference_inputs(inputs)\n"
          ]
        }
      ]
    },
    {
      "cell_type": "code",
      "source": [
        "# Create a retrieval model.\n",
        "model = JobLensModel(user_model, jobs_model, task)\n",
        "model.compile(optimizer=tf.keras.optimizers.Adagrad(0.5))\n",
        " \n",
        "# Train for 3 epochs.\n",
        "model.fit(skills.batch(4096), epochs=3)"
      ],
      "metadata": {
        "colab": {
          "base_uri": "https://localhost:8080/"
        },
        "id": "4G9u3gVSkOUm",
        "outputId": "109da50d-3c1d-4e5d-bace-94737422058c"
      },
      "execution_count": null,
      "outputs": [
        {
          "output_type": "stream",
          "name": "stdout",
          "text": [
            "Epoch 1/3\n",
            "1/1 [==============================] - 1s 1s/step - factorized_top_k/top_1_categorical_accuracy: 0.0000e+00 - factorized_top_k/top_5_categorical_accuracy: 0.0000e+00 - factorized_top_k/top_10_categorical_accuracy: 0.0000e+00 - factorized_top_k/top_50_categorical_accuracy: 0.5280 - factorized_top_k/top_100_categorical_accuracy: 1.0000 - loss: 3107.1028 - regularization_loss: 0.0000e+00 - total_loss: 3107.1028\n",
            "Epoch 2/3\n",
            "1/1 [==============================] - 0s 155ms/step - factorized_top_k/top_1_categorical_accuracy: 0.0000e+00 - factorized_top_k/top_5_categorical_accuracy: 0.0460 - factorized_top_k/top_10_categorical_accuracy: 0.3720 - factorized_top_k/top_50_categorical_accuracy: 1.0000 - factorized_top_k/top_100_categorical_accuracy: 1.0000 - loss: 3024.2825 - regularization_loss: 0.0000e+00 - total_loss: 3024.2825\n",
            "Epoch 3/3\n",
            "1/1 [==============================] - 0s 145ms/step - factorized_top_k/top_1_categorical_accuracy: 0.0000e+00 - factorized_top_k/top_5_categorical_accuracy: 1.0000 - factorized_top_k/top_10_categorical_accuracy: 1.0000 - factorized_top_k/top_50_categorical_accuracy: 1.0000 - factorized_top_k/top_100_categorical_accuracy: 1.0000 - loss: 1693.0966 - regularization_loss: 0.0000e+00 - total_loss: 1693.0966\n"
          ]
        },
        {
          "output_type": "execute_result",
          "data": {
            "text/plain": [
              "<keras.callbacks.History at 0x7f6d9a742b90>"
            ]
          },
          "metadata": {},
          "execution_count": 37
        }
      ]
    },
    {
      "cell_type": "code",
      "source": [
        "# Use brute-force search to set up retrieval using the trained representations.\n",
        "index = tfrs.layers.factorized_top_k.BruteForce(model.jobs_model)\n",
        "index.index_from_dataset(\n",
        "    skills.batch(100).map(lambda x: (x['id'], model.user_model(x['id'])))\n",
        ")\n",
        "\n",
        "# Get some recommendations.\n",
        "ids = tf.constant([\"xc45\"])\n",
        "_, titles = index(tf.constant(ids))\n",
        "for i in range(len(ids)):\n",
        "    print(f\"Recommendations for user id {ids[i].numpy()}: {titles[i].numpy()}\")"
      ],
      "metadata": {
        "colab": {
          "base_uri": "https://localhost:8080/"
        },
        "id": "oDK3THfpl2zp",
        "outputId": "816969c7-b33b-44b0-f19a-b55c2e044219"
      },
      "execution_count": null,
      "outputs": [
        {
          "output_type": "stream",
          "name": "stdout",
          "text": [
            "Recommendations for user id b'xc45': [b'EIG602' b'ZYH407' b'EUM063' b'JUO905' b'ZFT379' b'NSZ668' b'TBG638'\n",
            " b'QGJ316' b'JFZ010' b'CZD446']\n"
          ]
        }
      ]
    },
    {
      "cell_type": "code",
      "source": [
        "def recommend(id):\n",
        "    # Use brute-force search to set up retrieval using the trained representations.\n",
        "    index = tfrs.layers.factorized_top_k.BruteForce(model.jobs_model)\n",
        "    index.index_from_dataset(\n",
        "        skills.batch(100).map(lambda x: (x['id'], model.user_model(x['id'])))\n",
        "    )\n",
        "    \n",
        "    # Get recommendations for the given user ID.\n",
        "    ids = tf.constant([id])\n",
        "    _, titles = index(tf.constant(ids))\n",
        "    \n",
        "    # Print the recommendations.\n",
        "    recommendations = titles.numpy().tolist()\n",
        "    return recommendations\n",
        "  "
      ],
      "metadata": {
        "id": "Ib_DW-5aLTL9"
      },
      "execution_count": null,
      "outputs": []
    },
    {
      "cell_type": "code",
      "source": [
        "recommend('xc45')"
      ],
      "metadata": {
        "colab": {
          "base_uri": "https://localhost:8080/"
        },
        "id": "ZOkGk9SUld7H",
        "outputId": "9d5f2f2f-8a19-4d14-981f-85753b433264"
      },
      "execution_count": null,
      "outputs": [
        {
          "output_type": "execute_result",
          "data": {
            "text/plain": [
              "[[b'EIG602',\n",
              "  b'ZYH407',\n",
              "  b'EUM063',\n",
              "  b'JUO905',\n",
              "  b'ZFT379',\n",
              "  b'NSZ668',\n",
              "  b'TBG638',\n",
              "  b'QGJ316',\n",
              "  b'JFZ010',\n",
              "  b'CZD446']]"
            ]
          },
          "metadata": {},
          "execution_count": 40
        }
      ]
    },
    {
      "cell_type": "code",
      "source": [],
      "metadata": {
        "id": "CxhXcHlslm9v"
      },
      "execution_count": null,
      "outputs": []
    }
  ],
  "metadata": {
    "colab": {
      "provenance": []
    },
    "kernelspec": {
      "display_name": "Python 3",
      "name": "python3"
    },
    "language_info": {
      "name": "python"
    }
  },
  "nbformat": 4,
  "nbformat_minor": 0
}