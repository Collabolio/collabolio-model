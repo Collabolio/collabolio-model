{
  "cells": [
    {
      "cell_type": "code",
      "source": [
        "!pip install -q tensorflow-recommenders"
      ],
      "metadata": {
        "colab": {
          "base_uri": "https://localhost:8080/"
        },
        "id": "cKRdyLYlxYuA",
        "outputId": "e6b3dd50-8d7e-4dcc-f76e-2c018d236c0f"
      },
      "execution_count": null,
      "outputs": [
        {
          "output_type": "stream",
          "name": "stdout",
          "text": [
            "\u001b[?25l     \u001b[90m━━━━━━━━━━━━━━━━━━━━━━━━━━━━━━━━━━━━━━━━\u001b[0m \u001b[32m0.0/96.2 kB\u001b[0m \u001b[31m?\u001b[0m eta \u001b[36m-:--:--\u001b[0m\r\u001b[2K     \u001b[90m━━━━━━━━━━━━━━━━━━━━━━━━━━━━━━━━━━━━━━━━\u001b[0m \u001b[32m96.2/96.2 kB\u001b[0m \u001b[31m4.5 MB/s\u001b[0m eta \u001b[36m0:00:00\u001b[0m\n",
            "\u001b[?25h"
          ]
        }
      ]
    },
    {
      "cell_type": "code",
      "source": [
        "!pip install numpy==1.18.4"
      ],
      "metadata": {
        "colab": {
          "base_uri": "https://localhost:8080/"
        },
        "id": "FNsfcMd3ins_",
        "outputId": "ef28ed37-cc89-4626-d3b6-29f58bd2c792"
      },
      "execution_count": null,
      "outputs": [
        {
          "output_type": "stream",
          "name": "stdout",
          "text": [
            "Looking in indexes: https://pypi.org/simple, https://us-python.pkg.dev/colab-wheels/public/simple/\n",
            "Collecting numpy==1.18.4\n",
            "  Downloading numpy-1.18.4.zip (5.4 MB)\n",
            "\u001b[2K     \u001b[90m━━━━━━━━━━━━━━━━━━━━━━━━━━━━━━━━━━━━━━━━\u001b[0m \u001b[32m5.4/5.4 MB\u001b[0m \u001b[31m39.3 MB/s\u001b[0m eta \u001b[36m0:00:00\u001b[0m\n",
            "\u001b[?25h  Installing build dependencies ... \u001b[?25l\u001b[?25hdone\n",
            "  Getting requirements to build wheel ... \u001b[?25l\u001b[?25hdone\n",
            "  Preparing metadata (pyproject.toml) ... \u001b[?25l\u001b[?25hdone\n",
            "Building wheels for collected packages: numpy\n",
            "  \u001b[1;31merror\u001b[0m: \u001b[1msubprocess-exited-with-error\u001b[0m\n",
            "  \n",
            "  \u001b[31m×\u001b[0m \u001b[32mBuilding wheel for numpy \u001b[0m\u001b[1;32m(\u001b[0m\u001b[32mpyproject.toml\u001b[0m\u001b[1;32m)\u001b[0m did not run successfully.\n",
            "  \u001b[31m│\u001b[0m exit code: \u001b[1;36m1\u001b[0m\n",
            "  \u001b[31m╰─>\u001b[0m See above for output.\n",
            "  \n",
            "  \u001b[1;35mnote\u001b[0m: This error originates from a subprocess, and is likely not a problem with pip.\n",
            "  Building wheel for numpy (pyproject.toml) ... \u001b[?25l\u001b[?25herror\n",
            "\u001b[31m  ERROR: Failed building wheel for numpy\u001b[0m\u001b[31m\n",
            "\u001b[0mFailed to build numpy\n",
            "\u001b[31mERROR: Could not build wheels for numpy, which is required to install pyproject.toml-based projects\u001b[0m\u001b[31m\n",
            "\u001b[0m"
          ]
        }
      ]
    },
    {
      "cell_type": "code",
      "source": [
        "!pip install tensorflow"
      ],
      "metadata": {
        "colab": {
          "base_uri": "https://localhost:8080/"
        },
        "id": "rQmLlDZ8tJU-",
        "outputId": "0fb72644-6fa6-4407-b3cd-616eaa22e3a6"
      },
      "execution_count": null,
      "outputs": [
        {
          "output_type": "stream",
          "name": "stdout",
          "text": [
            "Looking in indexes: https://pypi.org/simple, https://us-python.pkg.dev/colab-wheels/public/simple/\n",
            "Requirement already satisfied: tensorflow in /usr/local/lib/python3.10/dist-packages (2.12.0)\n",
            "Requirement already satisfied: absl-py>=1.0.0 in /usr/local/lib/python3.10/dist-packages (from tensorflow) (1.4.0)\n",
            "Requirement already satisfied: astunparse>=1.6.0 in /usr/local/lib/python3.10/dist-packages (from tensorflow) (1.6.3)\n",
            "Requirement already satisfied: flatbuffers>=2.0 in /usr/local/lib/python3.10/dist-packages (from tensorflow) (23.3.3)\n",
            "Requirement already satisfied: gast<=0.4.0,>=0.2.1 in /usr/local/lib/python3.10/dist-packages (from tensorflow) (0.4.0)\n",
            "Requirement already satisfied: google-pasta>=0.1.1 in /usr/local/lib/python3.10/dist-packages (from tensorflow) (0.2.0)\n",
            "Requirement already satisfied: grpcio<2.0,>=1.24.3 in /usr/local/lib/python3.10/dist-packages (from tensorflow) (1.54.0)\n",
            "Requirement already satisfied: h5py>=2.9.0 in /usr/local/lib/python3.10/dist-packages (from tensorflow) (3.8.0)\n",
            "Requirement already satisfied: jax>=0.3.15 in /usr/local/lib/python3.10/dist-packages (from tensorflow) (0.4.10)\n",
            "Requirement already satisfied: keras<2.13,>=2.12.0 in /usr/local/lib/python3.10/dist-packages (from tensorflow) (2.12.0)\n",
            "Requirement already satisfied: libclang>=13.0.0 in /usr/local/lib/python3.10/dist-packages (from tensorflow) (16.0.0)\n",
            "Requirement already satisfied: numpy<1.24,>=1.22 in /usr/local/lib/python3.10/dist-packages (from tensorflow) (1.22.4)\n",
            "Requirement already satisfied: opt-einsum>=2.3.2 in /usr/local/lib/python3.10/dist-packages (from tensorflow) (3.3.0)\n",
            "Requirement already satisfied: packaging in /usr/local/lib/python3.10/dist-packages (from tensorflow) (23.1)\n",
            "Requirement already satisfied: protobuf!=4.21.0,!=4.21.1,!=4.21.2,!=4.21.3,!=4.21.4,!=4.21.5,<5.0.0dev,>=3.20.3 in /usr/local/lib/python3.10/dist-packages (from tensorflow) (3.20.3)\n",
            "Requirement already satisfied: setuptools in /usr/local/lib/python3.10/dist-packages (from tensorflow) (67.7.2)\n",
            "Requirement already satisfied: six>=1.12.0 in /usr/local/lib/python3.10/dist-packages (from tensorflow) (1.16.0)\n",
            "Requirement already satisfied: tensorboard<2.13,>=2.12 in /usr/local/lib/python3.10/dist-packages (from tensorflow) (2.12.2)\n",
            "Requirement already satisfied: tensorflow-estimator<2.13,>=2.12.0 in /usr/local/lib/python3.10/dist-packages (from tensorflow) (2.12.0)\n",
            "Requirement already satisfied: termcolor>=1.1.0 in /usr/local/lib/python3.10/dist-packages (from tensorflow) (2.3.0)\n",
            "Requirement already satisfied: typing-extensions>=3.6.6 in /usr/local/lib/python3.10/dist-packages (from tensorflow) (4.5.0)\n",
            "Requirement already satisfied: wrapt<1.15,>=1.11.0 in /usr/local/lib/python3.10/dist-packages (from tensorflow) (1.14.1)\n",
            "Requirement already satisfied: tensorflow-io-gcs-filesystem>=0.23.1 in /usr/local/lib/python3.10/dist-packages (from tensorflow) (0.32.0)\n",
            "Requirement already satisfied: wheel<1.0,>=0.23.0 in /usr/local/lib/python3.10/dist-packages (from astunparse>=1.6.0->tensorflow) (0.40.0)\n",
            "Requirement already satisfied: ml-dtypes>=0.1.0 in /usr/local/lib/python3.10/dist-packages (from jax>=0.3.15->tensorflow) (0.1.0)\n",
            "Requirement already satisfied: scipy>=1.7 in /usr/local/lib/python3.10/dist-packages (from jax>=0.3.15->tensorflow) (1.10.1)\n",
            "Requirement already satisfied: google-auth<3,>=1.6.3 in /usr/local/lib/python3.10/dist-packages (from tensorboard<2.13,>=2.12->tensorflow) (2.17.3)\n",
            "Requirement already satisfied: google-auth-oauthlib<1.1,>=0.5 in /usr/local/lib/python3.10/dist-packages (from tensorboard<2.13,>=2.12->tensorflow) (1.0.0)\n",
            "Requirement already satisfied: markdown>=2.6.8 in /usr/local/lib/python3.10/dist-packages (from tensorboard<2.13,>=2.12->tensorflow) (3.4.3)\n",
            "Requirement already satisfied: requests<3,>=2.21.0 in /usr/local/lib/python3.10/dist-packages (from tensorboard<2.13,>=2.12->tensorflow) (2.27.1)\n",
            "Requirement already satisfied: tensorboard-data-server<0.8.0,>=0.7.0 in /usr/local/lib/python3.10/dist-packages (from tensorboard<2.13,>=2.12->tensorflow) (0.7.0)\n",
            "Requirement already satisfied: tensorboard-plugin-wit>=1.6.0 in /usr/local/lib/python3.10/dist-packages (from tensorboard<2.13,>=2.12->tensorflow) (1.8.1)\n",
            "Requirement already satisfied: werkzeug>=1.0.1 in /usr/local/lib/python3.10/dist-packages (from tensorboard<2.13,>=2.12->tensorflow) (2.3.0)\n",
            "Requirement already satisfied: cachetools<6.0,>=2.0.0 in /usr/local/lib/python3.10/dist-packages (from google-auth<3,>=1.6.3->tensorboard<2.13,>=2.12->tensorflow) (5.3.0)\n",
            "Requirement already satisfied: pyasn1-modules>=0.2.1 in /usr/local/lib/python3.10/dist-packages (from google-auth<3,>=1.6.3->tensorboard<2.13,>=2.12->tensorflow) (0.3.0)\n",
            "Requirement already satisfied: rsa<5,>=3.1.4 in /usr/local/lib/python3.10/dist-packages (from google-auth<3,>=1.6.3->tensorboard<2.13,>=2.12->tensorflow) (4.9)\n",
            "Requirement already satisfied: requests-oauthlib>=0.7.0 in /usr/local/lib/python3.10/dist-packages (from google-auth-oauthlib<1.1,>=0.5->tensorboard<2.13,>=2.12->tensorflow) (1.3.1)\n",
            "Requirement already satisfied: urllib3<1.27,>=1.21.1 in /usr/local/lib/python3.10/dist-packages (from requests<3,>=2.21.0->tensorboard<2.13,>=2.12->tensorflow) (1.26.15)\n",
            "Requirement already satisfied: certifi>=2017.4.17 in /usr/local/lib/python3.10/dist-packages (from requests<3,>=2.21.0->tensorboard<2.13,>=2.12->tensorflow) (2022.12.7)\n",
            "Requirement already satisfied: charset-normalizer~=2.0.0 in /usr/local/lib/python3.10/dist-packages (from requests<3,>=2.21.0->tensorboard<2.13,>=2.12->tensorflow) (2.0.12)\n",
            "Requirement already satisfied: idna<4,>=2.5 in /usr/local/lib/python3.10/dist-packages (from requests<3,>=2.21.0->tensorboard<2.13,>=2.12->tensorflow) (3.4)\n",
            "Requirement already satisfied: MarkupSafe>=2.1.1 in /usr/local/lib/python3.10/dist-packages (from werkzeug>=1.0.1->tensorboard<2.13,>=2.12->tensorflow) (2.1.2)\n",
            "Requirement already satisfied: pyasn1<0.6.0,>=0.4.6 in /usr/local/lib/python3.10/dist-packages (from pyasn1-modules>=0.2.1->google-auth<3,>=1.6.3->tensorboard<2.13,>=2.12->tensorflow) (0.5.0)\n",
            "Requirement already satisfied: oauthlib>=3.0.0 in /usr/local/lib/python3.10/dist-packages (from requests-oauthlib>=0.7.0->google-auth-oauthlib<1.1,>=0.5->tensorboard<2.13,>=2.12->tensorflow) (3.2.2)\n"
          ]
        }
      ]
    },
    {
      "cell_type": "code",
      "source": [
        "from google.colab import drive\n",
        "drive.mount('/content/drive')"
      ],
      "metadata": {
        "colab": {
          "base_uri": "https://localhost:8080/"
        },
        "id": "komivYJjxebb",
        "outputId": "8a8f57da-03ac-4bc7-e5a4-33bfe3396bf9"
      },
      "execution_count": null,
      "outputs": [
        {
          "output_type": "stream",
          "name": "stdout",
          "text": [
            "Mounted at /content/drive\n"
          ]
        }
      ]
    },
    {
      "cell_type": "code",
      "source": [
        "import os\n",
        "import pprint\n",
        "import pandas as pd\n",
        "import tempfile\n",
        "from typing import Dict, Text\n",
        "import numpy as np\n",
        "import tensorflow as tf\n",
        "import tensorflow_recommenders as tfrs"
      ],
      "metadata": {
        "id": "IjlT-lkXGjtk"
      },
      "execution_count": null,
      "outputs": []
    },
    {
      "cell_type": "code",
      "source": [
        "class Config: \n",
        "    \n",
        "    embedding_dimension = 32\n",
        "    \n",
        "    model_path = \"model.tf\"\n",
        "    \n",
        "config = Config()"
      ],
      "metadata": {
        "id": "o59ZlWU7ydCO"
      },
      "execution_count": null,
      "outputs": []
    },
    {
      "cell_type": "code",
      "source": [
        "# Ratings data.\n",
        "df = pd.read_csv('/content/data.csv')\n",
        "#Skills\n",
        "skill = pd.read_csv('/content/data3.csv')"
      ],
      "metadata": {
        "id": "zJ_ZdSZHIQQw"
      },
      "execution_count": null,
      "outputs": []
    },
    {
      "cell_type": "code",
      "source": [
        "df[\"skills\"] = df['skill_1'].astype(str) +\", \"+ df['skill_2'].astype(str) +\", \"+ df['skill_3'].astype(str) +\", \"+ df['skill_4'].astype(str)"
      ],
      "metadata": {
        "id": "xtNaVvfsyYQS"
      },
      "execution_count": null,
      "outputs": []
    },
    {
      "cell_type": "code",
      "source": [
        "user = df[['id', 'name', 'skills', 'job_interest']]\n",
        "user"
      ],
      "metadata": {
        "colab": {
          "base_uri": "https://localhost:8080/",
          "height": 424
        },
        "id": "bC41M2-GzRCW",
        "outputId": "75ea7e58-bd53-4089-e6c2-b63306bcfae0"
      },
      "execution_count": null,
      "outputs": [
        {
          "output_type": "execute_result",
          "data": {
            "text/plain": [
              "         id              name  \\\n",
              "0    AAJ603  Chris Westphalen   \n",
              "1    HNA156      Koral Nilges   \n",
              "2    FND122       Biron Mavin   \n",
              "3    FMD294   Rurik Iwanowicz   \n",
              "4    XVU891      Bobbee Foord   \n",
              "..      ...               ...   \n",
              "495  JCH211    Hendrika Amoss   \n",
              "496  KWK881      Sile Watsham   \n",
              "497  BUX671        Dolf Gavin   \n",
              "498  EYD719   Linnea Houndsom   \n",
              "499  UVX498    Kelvin Ansteys   \n",
              "\n",
              "                                                skills  \\\n",
              "0    PHP, Visual Design, Google Cloud, Flutter Deve...   \n",
              "1    Node.js, Information Architecture, Salesforce ...   \n",
              "2    C#, Wireframing, Google Cloud, Flutter Develop...   \n",
              "3    SQL, Usability Testing, DigitalOcean, Android ...   \n",
              "4       Node.js, Wireframing, AWS, Flutter Development   \n",
              "..                                                 ...   \n",
              "495      React, Decision Trees, Xamarin, Digital Ocean   \n",
              "496         Django, Classification, Java, Google Cloud   \n",
              "497      HTML/CSS, Random Forest, Ionic, Alibaba Cloud   \n",
              "498          Angular, Naive Bayes, Ionic, VMware Cloud   \n",
              "499               C#, Regression, Swift, Alibaba Cloud   \n",
              "\n",
              "                             job_interest  \n",
              "0                          .NET Developer  \n",
              "1                    Advance Data Analyst  \n",
              "2                           AI Researcher  \n",
              "3                       android architect  \n",
              "4                       Android Developer  \n",
              "..                                    ...  \n",
              "495                          Web Designer  \n",
              "496                         Web Developer  \n",
              "497    Web Service Integration Specialist  \n",
              "498         Windows Application Developer  \n",
              "499  Wireless Network Security Specialist  \n",
              "\n",
              "[500 rows x 4 columns]"
            ],
            "text/html": [
              "\n",
              "  <div id=\"df-808eb89d-c8d8-4134-ae48-a4a72f63876f\">\n",
              "    <div class=\"colab-df-container\">\n",
              "      <div>\n",
              "<style scoped>\n",
              "    .dataframe tbody tr th:only-of-type {\n",
              "        vertical-align: middle;\n",
              "    }\n",
              "\n",
              "    .dataframe tbody tr th {\n",
              "        vertical-align: top;\n",
              "    }\n",
              "\n",
              "    .dataframe thead th {\n",
              "        text-align: right;\n",
              "    }\n",
              "</style>\n",
              "<table border=\"1\" class=\"dataframe\">\n",
              "  <thead>\n",
              "    <tr style=\"text-align: right;\">\n",
              "      <th></th>\n",
              "      <th>id</th>\n",
              "      <th>name</th>\n",
              "      <th>skills</th>\n",
              "      <th>job_interest</th>\n",
              "    </tr>\n",
              "  </thead>\n",
              "  <tbody>\n",
              "    <tr>\n",
              "      <th>0</th>\n",
              "      <td>AAJ603</td>\n",
              "      <td>Chris Westphalen</td>\n",
              "      <td>PHP, Visual Design, Google Cloud, Flutter Deve...</td>\n",
              "      <td>.NET Developer</td>\n",
              "    </tr>\n",
              "    <tr>\n",
              "      <th>1</th>\n",
              "      <td>HNA156</td>\n",
              "      <td>Koral Nilges</td>\n",
              "      <td>Node.js, Information Architecture, Salesforce ...</td>\n",
              "      <td>Advance Data Analyst</td>\n",
              "    </tr>\n",
              "    <tr>\n",
              "      <th>2</th>\n",
              "      <td>FND122</td>\n",
              "      <td>Biron Mavin</td>\n",
              "      <td>C#, Wireframing, Google Cloud, Flutter Develop...</td>\n",
              "      <td>AI Researcher</td>\n",
              "    </tr>\n",
              "    <tr>\n",
              "      <th>3</th>\n",
              "      <td>FMD294</td>\n",
              "      <td>Rurik Iwanowicz</td>\n",
              "      <td>SQL, Usability Testing, DigitalOcean, Android ...</td>\n",
              "      <td>android architect</td>\n",
              "    </tr>\n",
              "    <tr>\n",
              "      <th>4</th>\n",
              "      <td>XVU891</td>\n",
              "      <td>Bobbee Foord</td>\n",
              "      <td>Node.js, Wireframing, AWS, Flutter Development</td>\n",
              "      <td>Android Developer</td>\n",
              "    </tr>\n",
              "    <tr>\n",
              "      <th>...</th>\n",
              "      <td>...</td>\n",
              "      <td>...</td>\n",
              "      <td>...</td>\n",
              "      <td>...</td>\n",
              "    </tr>\n",
              "    <tr>\n",
              "      <th>495</th>\n",
              "      <td>JCH211</td>\n",
              "      <td>Hendrika Amoss</td>\n",
              "      <td>React, Decision Trees, Xamarin, Digital Ocean</td>\n",
              "      <td>Web Designer</td>\n",
              "    </tr>\n",
              "    <tr>\n",
              "      <th>496</th>\n",
              "      <td>KWK881</td>\n",
              "      <td>Sile Watsham</td>\n",
              "      <td>Django, Classification, Java, Google Cloud</td>\n",
              "      <td>Web Developer</td>\n",
              "    </tr>\n",
              "    <tr>\n",
              "      <th>497</th>\n",
              "      <td>BUX671</td>\n",
              "      <td>Dolf Gavin</td>\n",
              "      <td>HTML/CSS, Random Forest, Ionic, Alibaba Cloud</td>\n",
              "      <td>Web Service Integration Specialist</td>\n",
              "    </tr>\n",
              "    <tr>\n",
              "      <th>498</th>\n",
              "      <td>EYD719</td>\n",
              "      <td>Linnea Houndsom</td>\n",
              "      <td>Angular, Naive Bayes, Ionic, VMware Cloud</td>\n",
              "      <td>Windows Application Developer</td>\n",
              "    </tr>\n",
              "    <tr>\n",
              "      <th>499</th>\n",
              "      <td>UVX498</td>\n",
              "      <td>Kelvin Ansteys</td>\n",
              "      <td>C#, Regression, Swift, Alibaba Cloud</td>\n",
              "      <td>Wireless Network Security Specialist</td>\n",
              "    </tr>\n",
              "  </tbody>\n",
              "</table>\n",
              "<p>500 rows × 4 columns</p>\n",
              "</div>\n",
              "      <button class=\"colab-df-convert\" onclick=\"convertToInteractive('df-808eb89d-c8d8-4134-ae48-a4a72f63876f')\"\n",
              "              title=\"Convert this dataframe to an interactive table.\"\n",
              "              style=\"display:none;\">\n",
              "        \n",
              "  <svg xmlns=\"http://www.w3.org/2000/svg\" height=\"24px\"viewBox=\"0 0 24 24\"\n",
              "       width=\"24px\">\n",
              "    <path d=\"M0 0h24v24H0V0z\" fill=\"none\"/>\n",
              "    <path d=\"M18.56 5.44l.94 2.06.94-2.06 2.06-.94-2.06-.94-.94-2.06-.94 2.06-2.06.94zm-11 1L8.5 8.5l.94-2.06 2.06-.94-2.06-.94L8.5 2.5l-.94 2.06-2.06.94zm10 10l.94 2.06.94-2.06 2.06-.94-2.06-.94-.94-2.06-.94 2.06-2.06.94z\"/><path d=\"M17.41 7.96l-1.37-1.37c-.4-.4-.92-.59-1.43-.59-.52 0-1.04.2-1.43.59L10.3 9.45l-7.72 7.72c-.78.78-.78 2.05 0 2.83L4 21.41c.39.39.9.59 1.41.59.51 0 1.02-.2 1.41-.59l7.78-7.78 2.81-2.81c.8-.78.8-2.07 0-2.86zM5.41 20L4 18.59l7.72-7.72 1.47 1.35L5.41 20z\"/>\n",
              "  </svg>\n",
              "      </button>\n",
              "      \n",
              "  <style>\n",
              "    .colab-df-container {\n",
              "      display:flex;\n",
              "      flex-wrap:wrap;\n",
              "      gap: 12px;\n",
              "    }\n",
              "\n",
              "    .colab-df-convert {\n",
              "      background-color: #E8F0FE;\n",
              "      border: none;\n",
              "      border-radius: 50%;\n",
              "      cursor: pointer;\n",
              "      display: none;\n",
              "      fill: #1967D2;\n",
              "      height: 32px;\n",
              "      padding: 0 0 0 0;\n",
              "      width: 32px;\n",
              "    }\n",
              "\n",
              "    .colab-df-convert:hover {\n",
              "      background-color: #E2EBFA;\n",
              "      box-shadow: 0px 1px 2px rgba(60, 64, 67, 0.3), 0px 1px 3px 1px rgba(60, 64, 67, 0.15);\n",
              "      fill: #174EA6;\n",
              "    }\n",
              "\n",
              "    [theme=dark] .colab-df-convert {\n",
              "      background-color: #3B4455;\n",
              "      fill: #D2E3FC;\n",
              "    }\n",
              "\n",
              "    [theme=dark] .colab-df-convert:hover {\n",
              "      background-color: #434B5C;\n",
              "      box-shadow: 0px 1px 3px 1px rgba(0, 0, 0, 0.15);\n",
              "      filter: drop-shadow(0px 1px 2px rgba(0, 0, 0, 0.3));\n",
              "      fill: #FFFFFF;\n",
              "    }\n",
              "  </style>\n",
              "\n",
              "      <script>\n",
              "        const buttonEl =\n",
              "          document.querySelector('#df-808eb89d-c8d8-4134-ae48-a4a72f63876f button.colab-df-convert');\n",
              "        buttonEl.style.display =\n",
              "          google.colab.kernel.accessAllowed ? 'block' : 'none';\n",
              "\n",
              "        async function convertToInteractive(key) {\n",
              "          const element = document.querySelector('#df-808eb89d-c8d8-4134-ae48-a4a72f63876f');\n",
              "          const dataTable =\n",
              "            await google.colab.kernel.invokeFunction('convertToInteractive',\n",
              "                                                     [key], {});\n",
              "          if (!dataTable) return;\n",
              "\n",
              "          const docLinkHtml = 'Like what you see? Visit the ' +\n",
              "            '<a target=\"_blank\" href=https://colab.research.google.com/notebooks/data_table.ipynb>data table notebook</a>'\n",
              "            + ' to learn more about interactive tables.';\n",
              "          element.innerHTML = '';\n",
              "          dataTable['output_type'] = 'display_data';\n",
              "          await google.colab.output.renderOutput(dataTable, element);\n",
              "          const docLink = document.createElement('div');\n",
              "          docLink.innerHTML = docLinkHtml;\n",
              "          element.appendChild(docLink);\n",
              "        }\n",
              "      </script>\n",
              "    </div>\n",
              "  </div>\n",
              "  "
            ]
          },
          "metadata": {},
          "execution_count": 9
        }
      ]
    },
    {
      "cell_type": "code",
      "source": [
        "user = tf.data.Dataset.from_tensor_slices(dict(user))\n",
        "skill = tf.data.Dataset.from_tensor_slices(dict(skill))"
      ],
      "metadata": {
        "id": "XxRNr6BUiY1y"
      },
      "execution_count": null,
      "outputs": []
    },
    {
      "cell_type": "code",
      "source": [
        "# get the first rows of the movies dataset\n",
        "for m in skill.take(5):\n",
        "  print(m)"
      ],
      "metadata": {
        "colab": {
          "base_uri": "https://localhost:8080/"
        },
        "id": "OFAtcrEFfjw6",
        "outputId": "bb6458d6-80b2-4fa5-822b-e2c6fb6a2687"
      },
      "execution_count": null,
      "outputs": [
        {
          "output_type": "stream",
          "name": "stdout",
          "text": [
            "{'id': <tf.Tensor: shape=(), dtype=string, numpy=b'yn1'>, 'skill': <tf.Tensor: shape=(), dtype=string, numpy=b'Communication'>}\n",
            "{'id': <tf.Tensor: shape=(), dtype=string, numpy=b'yn2'>, 'skill': <tf.Tensor: shape=(), dtype=string, numpy=b'Customer Service'>}\n",
            "{'id': <tf.Tensor: shape=(), dtype=string, numpy=b'yn3'>, 'skill': <tf.Tensor: shape=(), dtype=string, numpy=b'Financial Analysis'>}\n",
            "{'id': <tf.Tensor: shape=(), dtype=string, numpy=b'yn4'>, 'skill': <tf.Tensor: shape=(), dtype=string, numpy=b'Leadership'>}\n",
            "{'id': <tf.Tensor: shape=(), dtype=string, numpy=b'yn5'>, 'skill': <tf.Tensor: shape=(), dtype=string, numpy=b'Marketing'>}\n"
          ]
        }
      ]
    },
    {
      "cell_type": "code",
      "source": [
        "user = user.map(lambda x: {\n",
        "    \"id\": x[\"id\"],\n",
        "    \"name\": x[\"name\"],\n",
        "    \"skills\": x[\"skills\"],\n",
        "    \"job_interest\": x[\"job_interest\"]\n",
        "})\n",
        "skill = skill.map(lambda x: {\n",
        "    \"id\": x[\"id\"],\n",
        "    \"skill\": x[\"skill\"]\n",
        "}) "
      ],
      "metadata": {
        "id": "EoxDyBiTik3Y"
      },
      "execution_count": null,
      "outputs": []
    },
    {
      "cell_type": "code",
      "source": [
        "user_array = []\n",
        "skill_array = []\n",
        "for data in user:\n",
        "    user_array.append(data['id'].numpy().decode())\n",
        "for data in skill:\n",
        "    skill_array.append(data['skill'].numpy().decode())\n",
        "\n",
        "\n",
        "#skills_array = tf.squeeze(skills).numpy().astype(str).tolist()\n",
        "#jobs_array = tf.squeeze(jobs).numpy().astype(str).tolist()\n",
        "\n",
        "user_ids_vocabulary = tf.keras.layers.StringLookup()\n",
        "user_ids_vocabulary.adapt(user_array)\n",
        "\n",
        "skill_titles_vocabulary = tf.keras.layers.StringLookup()\n",
        "skill_titles_vocabulary.adapt(skill_array)\n"
      ],
      "metadata": {
        "id": "InwN_KJEi6RI"
      },
      "execution_count": null,
      "outputs": []
    },
    {
      "cell_type": "code",
      "source": [
        "for data in skill:\n",
        "  print(data['skill'])"
      ],
      "metadata": {
        "colab": {
          "base_uri": "https://localhost:8080/"
        },
        "id": "-bmAORxohwgd",
        "outputId": "187357e2-8d1f-4d93-a0a0-a7f68f774e2f"
      },
      "execution_count": null,
      "outputs": [
        {
          "output_type": "stream",
          "name": "stdout",
          "text": [
            "tf.Tensor(b'Communication', shape=(), dtype=string)\n",
            "tf.Tensor(b'Customer Service', shape=(), dtype=string)\n",
            "tf.Tensor(b'Financial Analysis', shape=(), dtype=string)\n",
            "tf.Tensor(b'Leadership', shape=(), dtype=string)\n",
            "tf.Tensor(b'Marketing', shape=(), dtype=string)\n",
            "tf.Tensor(b'Negotiation', shape=(), dtype=string)\n",
            "tf.Tensor(b'Project Management', shape=(), dtype=string)\n",
            "tf.Tensor(b'Sales', shape=(), dtype=string)\n",
            "tf.Tensor(b'Strategic Planning', shape=(), dtype=string)\n",
            "tf.Tensor(b'Time Management', shape=(), dtype=string)\n",
            "tf.Tensor(b'application security', shape=(), dtype=string)\n",
            "tf.Tensor(b'cloud security', shape=(), dtype=string)\n",
            "tf.Tensor(b'compliance', shape=(), dtype=string)\n",
            "tf.Tensor(b'cybersecurity awareness', shape=(), dtype=string)\n",
            "tf.Tensor(b'data privacy', shape=(), dtype=string)\n",
            "tf.Tensor(b'identity and access management', shape=(), dtype=string)\n",
            "tf.Tensor(b'incident response', shape=(), dtype=string)\n",
            "tf.Tensor(b'malware analysis', shape=(), dtype=string)\n",
            "tf.Tensor(b'network security', shape=(), dtype=string)\n",
            "tf.Tensor(b'penetration testing', shape=(), dtype=string)\n",
            "tf.Tensor(b'risk management', shape=(), dtype=string)\n",
            "tf.Tensor(b'security architecture', shape=(), dtype=string)\n",
            "tf.Tensor(b'security operations', shape=(), dtype=string)\n",
            "tf.Tensor(b'threat intelligence', shape=(), dtype=string)\n",
            "tf.Tensor(b'vulnerability assessment', shape=(), dtype=string)\n",
            "tf.Tensor(b'Android Development', shape=(), dtype=string)\n",
            "tf.Tensor(b'Flutter Development', shape=(), dtype=string)\n",
            "tf.Tensor(b'Ionic Development', shape=(), dtype=string)\n",
            "tf.Tensor(b'iOS Development', shape=(), dtype=string)\n",
            "tf.Tensor(b'React Native Development', shape=(), dtype=string)\n",
            "tf.Tensor(b'Classification', shape=(), dtype=string)\n",
            "tf.Tensor(b'Clustering', shape=(), dtype=string)\n",
            "tf.Tensor(b'Computer Vision', shape=(), dtype=string)\n",
            "tf.Tensor(b'Decision Trees', shape=(), dtype=string)\n",
            "tf.Tensor(b'Deep Learning', shape=(), dtype=string)\n",
            "tf.Tensor(b'Dimensionality Reduction', shape=(), dtype=string)\n",
            "tf.Tensor(b'Ensemble Methods', shape=(), dtype=string)\n",
            "tf.Tensor(b'Natural Language Processing', shape=(), dtype=string)\n",
            "tf.Tensor(b'Neural Networks', shape=(), dtype=string)\n",
            "tf.Tensor(b'Random Forest', shape=(), dtype=string)\n",
            "tf.Tensor(b'Regression', shape=(), dtype=string)\n",
            "tf.Tensor(b'Support Vector Machines', shape=(), dtype=string)\n",
            "tf.Tensor(b'Alibaba Cloud', shape=(), dtype=string)\n",
            "tf.Tensor(b'Azure', shape=(), dtype=string)\n",
            "tf.Tensor(b'DigitalOcean', shape=(), dtype=string)\n",
            "tf.Tensor(b'Google Cloud', shape=(), dtype=string)\n",
            "tf.Tensor(b'IBM Cloud', shape=(), dtype=string)\n",
            "tf.Tensor(b'Oracle Cloud', shape=(), dtype=string)\n",
            "tf.Tensor(b'Red Hat Cloud', shape=(), dtype=string)\n",
            "tf.Tensor(b'Salesforce Cloud', shape=(), dtype=string)\n",
            "tf.Tensor(b'VMware Cloud', shape=(), dtype=string)\n",
            "tf.Tensor(b'Cassandra', shape=(), dtype=string)\n",
            "tf.Tensor(b'Flink', shape=(), dtype=string)\n",
            "tf.Tensor(b'Hadoop', shape=(), dtype=string)\n",
            "tf.Tensor(b'HBase', shape=(), dtype=string)\n",
            "tf.Tensor(b'Hive', shape=(), dtype=string)\n",
            "tf.Tensor(b'Kafka', shape=(), dtype=string)\n",
            "tf.Tensor(b'MapReduce', shape=(), dtype=string)\n",
            "tf.Tensor(b'Pig', shape=(), dtype=string)\n",
            "tf.Tensor(b'Spark', shape=(), dtype=string)\n",
            "tf.Tensor(b'Storm', shape=(), dtype=string)\n",
            "tf.Tensor(b'Front-end Development', shape=(), dtype=string)\n",
            "tf.Tensor(b'Information Architecture', shape=(), dtype=string)\n",
            "tf.Tensor(b'Interaction Design', shape=(), dtype=string)\n",
            "tf.Tensor(b'Prototyping', shape=(), dtype=string)\n",
            "tf.Tensor(b'Usability Testing', shape=(), dtype=string)\n",
            "tf.Tensor(b'User Research', shape=(), dtype=string)\n",
            "tf.Tensor(b'Visual Design', shape=(), dtype=string)\n",
            "tf.Tensor(b'Wireframing', shape=(), dtype=string)\n",
            "tf.Tensor(b'Angular', shape=(), dtype=string)\n",
            "tf.Tensor(b'Babel', shape=(), dtype=string)\n",
            "tf.Tensor(b'Bootstrap', shape=(), dtype=string)\n",
            "tf.Tensor(b'CSS', shape=(), dtype=string)\n",
            "tf.Tensor(b'Grunt', shape=(), dtype=string)\n",
            "tf.Tensor(b'Gulp', shape=(), dtype=string)\n",
            "tf.Tensor(b'HTML', shape=(), dtype=string)\n",
            "tf.Tensor(b'JavaScript', shape=(), dtype=string)\n",
            "tf.Tensor(b'jQuery', shape=(), dtype=string)\n",
            "tf.Tensor(b'LESS', shape=(), dtype=string)\n",
            "tf.Tensor(b'React', shape=(), dtype=string)\n",
            "tf.Tensor(b'SASS', shape=(), dtype=string)\n",
            "tf.Tensor(b'TypeScript', shape=(), dtype=string)\n",
            "tf.Tensor(b'Vue', shape=(), dtype=string)\n",
            "tf.Tensor(b'Webpack', shape=(), dtype=string)\n",
            "tf.Tensor(b'C#', shape=(), dtype=string)\n",
            "tf.Tensor(b'Go', shape=(), dtype=string)\n",
            "tf.Tensor(b'Java', shape=(), dtype=string)\n",
            "tf.Tensor(b'Kotlin', shape=(), dtype=string)\n",
            "tf.Tensor(b'Node.js', shape=(), dtype=string)\n",
            "tf.Tensor(b'PHP', shape=(), dtype=string)\n",
            "tf.Tensor(b'Python', shape=(), dtype=string)\n",
            "tf.Tensor(b'Ruby', shape=(), dtype=string)\n",
            "tf.Tensor(b'Scala', shape=(), dtype=string)\n",
            "tf.Tensor(b'SQL', shape=(), dtype=string)\n",
            "tf.Tensor(b'Back-end Developer', shape=(), dtype=string)\n",
            "tf.Tensor(b'Cloud Computing', shape=(), dtype=string)\n",
            "tf.Tensor(b'UI/UX', shape=(), dtype=string)\n",
            "tf.Tensor(b'Adobe XD', shape=(), dtype=string)\n",
            "tf.Tensor(b'Figma', shape=(), dtype=string)\n",
            "tf.Tensor(b'Web Design', shape=(), dtype=string)\n"
          ]
        }
      ]
    },
    {
      "cell_type": "code",
      "source": [
        "class JobLensModel(tfrs.Model):\n",
        "  # We derive from a custom base class to help reduce boilerplate. Under the hood,\n",
        "  # these are still plain Keras Models.\n",
        " \n",
        "  def __init__(\n",
        "      self,\n",
        "      user_model: tf.keras.Model,\n",
        "      skill_model: tf.keras.Model,\n",
        "      task: tfrs.tasks.Retrieval):\n",
        "    super().__init__()\n",
        " \n",
        "    # Set up user and movie representations.\n",
        "    self.user_model = user_model\n",
        "    self.skill_model = skill_model\n",
        "\n",
        " \n",
        "    # Set up a retrieval task.\n",
        "    self.task = task\n",
        " \n",
        "  def compute_loss(self, features: Dict[Text, tf.Tensor], training=False) -> tf.Tensor:\n",
        "    # Define how the loss is computed.\n",
        " \n",
        "    user_embeddings = self.user_model(features[\"id\"])\n",
        "    skill_embeddings = self.skill_model(features[\"skill\"])\n",
        "\n",
        " \n",
        "    return self.task(user_embeddings, skill_embeddings)"
      ],
      "metadata": {
        "id": "VFS2PxdPjxUJ"
      },
      "execution_count": null,
      "outputs": []
    },
    {
      "cell_type": "code",
      "source": [
        "# Define user and movie models.\n",
        "user_model = tf.keras.Sequential([\n",
        "    tf.keras.Input(shape=[], dtype=tf.string, name='id'),\n",
        "    user_ids_vocabulary,\n",
        "    tf.keras.layers.Embedding(user_ids_vocabulary.vocabulary_size(), 64)\n",
        "])\n",
        "skill_model = tf.keras.Sequential([\n",
        "    tf.keras.Input(shape=[], dtype=tf.string, name='skill'),\n",
        "    skill_titles_vocabulary,\n",
        "    tf.keras.layers.Embedding(skill_titles_vocabulary.vocabulary_size(), 64)\n",
        "])\n",
        "\n",
        "# Define your objectives.\n",
        "task = tfrs.tasks.Retrieval(\n",
        "    metrics=tfrs.metrics.FactorizedTopK(\n",
        "        skill.batch(128).map(skill_model)\n",
        "    )\n",
        ")"
      ],
      "metadata": {
        "id": "GCpvAr2TkAqz",
        "colab": {
          "base_uri": "https://localhost:8080/"
        },
        "outputId": "2b4f30ca-7901-4836-8e6a-cfd828c9a708"
      },
      "execution_count": null,
      "outputs": [
        {
          "output_type": "stream",
          "name": "stderr",
          "text": [
            "/usr/local/lib/python3.10/dist-packages/keras/engine/functional.py:639: UserWarning: Input dict contained keys ['id'] which did not match any model input. They will be ignored by the model.\n",
            "  inputs = self._flatten_to_reference_inputs(inputs)\n"
          ]
        }
      ]
    },
    {
      "cell_type": "code",
      "source": [
        "# Create a retrieval model.\n",
        "model = JobLensModel(user_model, skill_model, task)\n",
        "model.compile(optimizer=tf.keras.optimizers.Adagrad(0.5))\n",
        " \n",
        "# Train for 3 epochs.\n",
        "model.fit(skill.batch(4096), epochs=50)"
      ],
      "metadata": {
        "colab": {
          "base_uri": "https://localhost:8080/"
        },
        "id": "4G9u3gVSkOUm",
        "outputId": "88db19c3-c3ec-4a6a-e5ee-48da1c3c3514"
      },
      "execution_count": null,
      "outputs": [
        {
          "output_type": "stream",
          "name": "stdout",
          "text": [
            "Epoch 1/50\n",
            "1/1 [==============================] - 2s 2s/step - factorized_top_k/top_1_categorical_accuracy: 0.0100 - factorized_top_k/top_5_categorical_accuracy: 0.0700 - factorized_top_k/top_10_categorical_accuracy: 0.1100 - factorized_top_k/top_50_categorical_accuracy: 0.5000 - factorized_top_k/top_100_categorical_accuracy: 0.9900 - loss: 460.5175 - regularization_loss: 0.0000e+00 - total_loss: 460.5175\n",
            "Epoch 2/50\n",
            "1/1 [==============================] - 0s 75ms/step - factorized_top_k/top_1_categorical_accuracy: 0.0100 - factorized_top_k/top_5_categorical_accuracy: 0.0600 - factorized_top_k/top_10_categorical_accuracy: 0.1000 - factorized_top_k/top_50_categorical_accuracy: 0.4900 - factorized_top_k/top_100_categorical_accuracy: 0.9900 - loss: 460.5174 - regularization_loss: 0.0000e+00 - total_loss: 460.5174\n",
            "Epoch 3/50\n",
            "1/1 [==============================] - 0s 67ms/step - factorized_top_k/top_1_categorical_accuracy: 0.0200 - factorized_top_k/top_5_categorical_accuracy: 0.0600 - factorized_top_k/top_10_categorical_accuracy: 0.1000 - factorized_top_k/top_50_categorical_accuracy: 0.4900 - factorized_top_k/top_100_categorical_accuracy: 0.9900 - loss: 460.5173 - regularization_loss: 0.0000e+00 - total_loss: 460.5173\n",
            "Epoch 4/50\n",
            "1/1 [==============================] - 0s 63ms/step - factorized_top_k/top_1_categorical_accuracy: 0.0100 - factorized_top_k/top_5_categorical_accuracy: 0.0600 - factorized_top_k/top_10_categorical_accuracy: 0.1100 - factorized_top_k/top_50_categorical_accuracy: 0.4900 - factorized_top_k/top_100_categorical_accuracy: 0.9900 - loss: 460.5172 - regularization_loss: 0.0000e+00 - total_loss: 460.5172\n",
            "Epoch 5/50\n",
            "1/1 [==============================] - 0s 74ms/step - factorized_top_k/top_1_categorical_accuracy: 0.0100 - factorized_top_k/top_5_categorical_accuracy: 0.0500 - factorized_top_k/top_10_categorical_accuracy: 0.1000 - factorized_top_k/top_50_categorical_accuracy: 0.4900 - factorized_top_k/top_100_categorical_accuracy: 0.9900 - loss: 460.5172 - regularization_loss: 0.0000e+00 - total_loss: 460.5172\n",
            "Epoch 6/50\n",
            "1/1 [==============================] - 0s 68ms/step - factorized_top_k/top_1_categorical_accuracy: 0.0100 - factorized_top_k/top_5_categorical_accuracy: 0.0500 - factorized_top_k/top_10_categorical_accuracy: 0.1000 - factorized_top_k/top_50_categorical_accuracy: 0.4800 - factorized_top_k/top_100_categorical_accuracy: 0.9900 - loss: 460.5172 - regularization_loss: 0.0000e+00 - total_loss: 460.5172\n",
            "Epoch 7/50\n",
            "1/1 [==============================] - 0s 62ms/step - factorized_top_k/top_1_categorical_accuracy: 0.0100 - factorized_top_k/top_5_categorical_accuracy: 0.0500 - factorized_top_k/top_10_categorical_accuracy: 0.1000 - factorized_top_k/top_50_categorical_accuracy: 0.4900 - factorized_top_k/top_100_categorical_accuracy: 0.9900 - loss: 460.5172 - regularization_loss: 0.0000e+00 - total_loss: 460.5172\n",
            "Epoch 8/50\n",
            "1/1 [==============================] - 0s 66ms/step - factorized_top_k/top_1_categorical_accuracy: 0.0100 - factorized_top_k/top_5_categorical_accuracy: 0.0500 - factorized_top_k/top_10_categorical_accuracy: 0.1000 - factorized_top_k/top_50_categorical_accuracy: 0.5000 - factorized_top_k/top_100_categorical_accuracy: 0.9900 - loss: 460.5172 - regularization_loss: 0.0000e+00 - total_loss: 460.5172\n",
            "Epoch 9/50\n",
            "1/1 [==============================] - 0s 72ms/step - factorized_top_k/top_1_categorical_accuracy: 0.0100 - factorized_top_k/top_5_categorical_accuracy: 0.0500 - factorized_top_k/top_10_categorical_accuracy: 0.1000 - factorized_top_k/top_50_categorical_accuracy: 0.4900 - factorized_top_k/top_100_categorical_accuracy: 0.9800 - loss: 460.5171 - regularization_loss: 0.0000e+00 - total_loss: 460.5171\n",
            "Epoch 10/50\n",
            "1/1 [==============================] - 0s 68ms/step - factorized_top_k/top_1_categorical_accuracy: 0.0100 - factorized_top_k/top_5_categorical_accuracy: 0.0500 - factorized_top_k/top_10_categorical_accuracy: 0.1100 - factorized_top_k/top_50_categorical_accuracy: 0.4900 - factorized_top_k/top_100_categorical_accuracy: 0.9900 - loss: 460.5171 - regularization_loss: 0.0000e+00 - total_loss: 460.5171\n",
            "Epoch 11/50\n",
            "1/1 [==============================] - 0s 67ms/step - factorized_top_k/top_1_categorical_accuracy: 0.0100 - factorized_top_k/top_5_categorical_accuracy: 0.0500 - factorized_top_k/top_10_categorical_accuracy: 0.1100 - factorized_top_k/top_50_categorical_accuracy: 0.4900 - factorized_top_k/top_100_categorical_accuracy: 0.9900 - loss: 460.5171 - regularization_loss: 0.0000e+00 - total_loss: 460.5171\n",
            "Epoch 12/50\n",
            "1/1 [==============================] - 0s 72ms/step - factorized_top_k/top_1_categorical_accuracy: 0.0100 - factorized_top_k/top_5_categorical_accuracy: 0.0600 - factorized_top_k/top_10_categorical_accuracy: 0.1000 - factorized_top_k/top_50_categorical_accuracy: 0.4900 - factorized_top_k/top_100_categorical_accuracy: 0.9900 - loss: 460.5171 - regularization_loss: 0.0000e+00 - total_loss: 460.5171\n",
            "Epoch 13/50\n",
            "1/1 [==============================] - 0s 68ms/step - factorized_top_k/top_1_categorical_accuracy: 0.0100 - factorized_top_k/top_5_categorical_accuracy: 0.0500 - factorized_top_k/top_10_categorical_accuracy: 0.1100 - factorized_top_k/top_50_categorical_accuracy: 0.4900 - factorized_top_k/top_100_categorical_accuracy: 0.9900 - loss: 460.5171 - regularization_loss: 0.0000e+00 - total_loss: 460.5171\n",
            "Epoch 14/50\n",
            "1/1 [==============================] - 0s 69ms/step - factorized_top_k/top_1_categorical_accuracy: 0.0300 - factorized_top_k/top_5_categorical_accuracy: 0.0500 - factorized_top_k/top_10_categorical_accuracy: 0.1100 - factorized_top_k/top_50_categorical_accuracy: 0.4900 - factorized_top_k/top_100_categorical_accuracy: 0.9900 - loss: 460.5171 - regularization_loss: 0.0000e+00 - total_loss: 460.5171\n",
            "Epoch 15/50\n",
            "1/1 [==============================] - 0s 65ms/step - factorized_top_k/top_1_categorical_accuracy: 0.0200 - factorized_top_k/top_5_categorical_accuracy: 0.0500 - factorized_top_k/top_10_categorical_accuracy: 0.1000 - factorized_top_k/top_50_categorical_accuracy: 0.4900 - factorized_top_k/top_100_categorical_accuracy: 0.9900 - loss: 460.5171 - regularization_loss: 0.0000e+00 - total_loss: 460.5171\n",
            "Epoch 16/50\n",
            "1/1 [==============================] - 0s 67ms/step - factorized_top_k/top_1_categorical_accuracy: 0.0200 - factorized_top_k/top_5_categorical_accuracy: 0.0500 - factorized_top_k/top_10_categorical_accuracy: 0.1000 - factorized_top_k/top_50_categorical_accuracy: 0.4900 - factorized_top_k/top_100_categorical_accuracy: 0.9900 - loss: 460.5171 - regularization_loss: 0.0000e+00 - total_loss: 460.5171\n",
            "Epoch 17/50\n",
            "1/1 [==============================] - 0s 65ms/step - factorized_top_k/top_1_categorical_accuracy: 0.0200 - factorized_top_k/top_5_categorical_accuracy: 0.0500 - factorized_top_k/top_10_categorical_accuracy: 0.1000 - factorized_top_k/top_50_categorical_accuracy: 0.4900 - factorized_top_k/top_100_categorical_accuracy: 0.9900 - loss: 460.5171 - regularization_loss: 0.0000e+00 - total_loss: 460.5171\n",
            "Epoch 18/50\n",
            "1/1 [==============================] - 0s 66ms/step - factorized_top_k/top_1_categorical_accuracy: 0.0200 - factorized_top_k/top_5_categorical_accuracy: 0.0500 - factorized_top_k/top_10_categorical_accuracy: 0.1000 - factorized_top_k/top_50_categorical_accuracy: 0.4900 - factorized_top_k/top_100_categorical_accuracy: 0.9900 - loss: 460.5171 - regularization_loss: 0.0000e+00 - total_loss: 460.5171\n",
            "Epoch 19/50\n",
            "1/1 [==============================] - 0s 68ms/step - factorized_top_k/top_1_categorical_accuracy: 0.0200 - factorized_top_k/top_5_categorical_accuracy: 0.0600 - factorized_top_k/top_10_categorical_accuracy: 0.1000 - factorized_top_k/top_50_categorical_accuracy: 0.4900 - factorized_top_k/top_100_categorical_accuracy: 0.9900 - loss: 460.5171 - regularization_loss: 0.0000e+00 - total_loss: 460.5171\n",
            "Epoch 20/50\n",
            "1/1 [==============================] - 0s 64ms/step - factorized_top_k/top_1_categorical_accuracy: 0.0200 - factorized_top_k/top_5_categorical_accuracy: 0.0500 - factorized_top_k/top_10_categorical_accuracy: 0.1000 - factorized_top_k/top_50_categorical_accuracy: 0.4900 - factorized_top_k/top_100_categorical_accuracy: 0.9900 - loss: 460.5171 - regularization_loss: 0.0000e+00 - total_loss: 460.5171\n",
            "Epoch 21/50\n",
            "1/1 [==============================] - 0s 66ms/step - factorized_top_k/top_1_categorical_accuracy: 0.0200 - factorized_top_k/top_5_categorical_accuracy: 0.0500 - factorized_top_k/top_10_categorical_accuracy: 0.1000 - factorized_top_k/top_50_categorical_accuracy: 0.4900 - factorized_top_k/top_100_categorical_accuracy: 0.9900 - loss: 460.5170 - regularization_loss: 0.0000e+00 - total_loss: 460.5170\n",
            "Epoch 22/50\n",
            "1/1 [==============================] - 0s 73ms/step - factorized_top_k/top_1_categorical_accuracy: 0.0200 - factorized_top_k/top_5_categorical_accuracy: 0.0500 - factorized_top_k/top_10_categorical_accuracy: 0.1000 - factorized_top_k/top_50_categorical_accuracy: 0.4900 - factorized_top_k/top_100_categorical_accuracy: 0.9900 - loss: 460.5170 - regularization_loss: 0.0000e+00 - total_loss: 460.5170\n",
            "Epoch 23/50\n",
            "1/1 [==============================] - 0s 66ms/step - factorized_top_k/top_1_categorical_accuracy: 0.0200 - factorized_top_k/top_5_categorical_accuracy: 0.0500 - factorized_top_k/top_10_categorical_accuracy: 0.1000 - factorized_top_k/top_50_categorical_accuracy: 0.4900 - factorized_top_k/top_100_categorical_accuracy: 0.9900 - loss: 460.5170 - regularization_loss: 0.0000e+00 - total_loss: 460.5170\n",
            "Epoch 24/50\n",
            "1/1 [==============================] - 0s 73ms/step - factorized_top_k/top_1_categorical_accuracy: 0.0100 - factorized_top_k/top_5_categorical_accuracy: 0.0600 - factorized_top_k/top_10_categorical_accuracy: 0.1000 - factorized_top_k/top_50_categorical_accuracy: 0.4900 - factorized_top_k/top_100_categorical_accuracy: 0.9900 - loss: 460.5171 - regularization_loss: 0.0000e+00 - total_loss: 460.5171\n",
            "Epoch 25/50\n",
            "1/1 [==============================] - 0s 63ms/step - factorized_top_k/top_1_categorical_accuracy: 0.0100 - factorized_top_k/top_5_categorical_accuracy: 0.0500 - factorized_top_k/top_10_categorical_accuracy: 0.1000 - factorized_top_k/top_50_categorical_accuracy: 0.4900 - factorized_top_k/top_100_categorical_accuracy: 0.9900 - loss: 460.5170 - regularization_loss: 0.0000e+00 - total_loss: 460.5170\n",
            "Epoch 26/50\n",
            "1/1 [==============================] - 0s 65ms/step - factorized_top_k/top_1_categorical_accuracy: 0.0100 - factorized_top_k/top_5_categorical_accuracy: 0.0500 - factorized_top_k/top_10_categorical_accuracy: 0.1000 - factorized_top_k/top_50_categorical_accuracy: 0.4900 - factorized_top_k/top_100_categorical_accuracy: 0.9900 - loss: 460.5170 - regularization_loss: 0.0000e+00 - total_loss: 460.5170\n",
            "Epoch 27/50\n",
            "1/1 [==============================] - 0s 63ms/step - factorized_top_k/top_1_categorical_accuracy: 0.0100 - factorized_top_k/top_5_categorical_accuracy: 0.0500 - factorized_top_k/top_10_categorical_accuracy: 0.1000 - factorized_top_k/top_50_categorical_accuracy: 0.4900 - factorized_top_k/top_100_categorical_accuracy: 0.9900 - loss: 460.5170 - regularization_loss: 0.0000e+00 - total_loss: 460.5170\n",
            "Epoch 28/50\n",
            "1/1 [==============================] - 0s 71ms/step - factorized_top_k/top_1_categorical_accuracy: 0.0100 - factorized_top_k/top_5_categorical_accuracy: 0.0500 - factorized_top_k/top_10_categorical_accuracy: 0.1000 - factorized_top_k/top_50_categorical_accuracy: 0.4900 - factorized_top_k/top_100_categorical_accuracy: 0.9900 - loss: 460.5170 - regularization_loss: 0.0000e+00 - total_loss: 460.5170\n",
            "Epoch 29/50\n",
            "1/1 [==============================] - 0s 64ms/step - factorized_top_k/top_1_categorical_accuracy: 0.0100 - factorized_top_k/top_5_categorical_accuracy: 0.0500 - factorized_top_k/top_10_categorical_accuracy: 0.1000 - factorized_top_k/top_50_categorical_accuracy: 0.4900 - factorized_top_k/top_100_categorical_accuracy: 0.9900 - loss: 460.5170 - regularization_loss: 0.0000e+00 - total_loss: 460.5170\n",
            "Epoch 30/50\n",
            "1/1 [==============================] - 0s 66ms/step - factorized_top_k/top_1_categorical_accuracy: 0.0100 - factorized_top_k/top_5_categorical_accuracy: 0.0500 - factorized_top_k/top_10_categorical_accuracy: 0.1000 - factorized_top_k/top_50_categorical_accuracy: 0.4900 - factorized_top_k/top_100_categorical_accuracy: 0.9900 - loss: 460.5170 - regularization_loss: 0.0000e+00 - total_loss: 460.5170\n",
            "Epoch 31/50\n",
            "1/1 [==============================] - 0s 66ms/step - factorized_top_k/top_1_categorical_accuracy: 0.0100 - factorized_top_k/top_5_categorical_accuracy: 0.0500 - factorized_top_k/top_10_categorical_accuracy: 0.1000 - factorized_top_k/top_50_categorical_accuracy: 0.4900 - factorized_top_k/top_100_categorical_accuracy: 0.9800 - loss: 460.5170 - regularization_loss: 0.0000e+00 - total_loss: 460.5170\n",
            "Epoch 32/50\n",
            "1/1 [==============================] - 0s 70ms/step - factorized_top_k/top_1_categorical_accuracy: 0.0100 - factorized_top_k/top_5_categorical_accuracy: 0.0500 - factorized_top_k/top_10_categorical_accuracy: 0.1100 - factorized_top_k/top_50_categorical_accuracy: 0.4900 - factorized_top_k/top_100_categorical_accuracy: 0.9800 - loss: 460.5171 - regularization_loss: 0.0000e+00 - total_loss: 460.5171\n",
            "Epoch 33/50\n",
            "1/1 [==============================] - 0s 75ms/step - factorized_top_k/top_1_categorical_accuracy: 0.0100 - factorized_top_k/top_5_categorical_accuracy: 0.0500 - factorized_top_k/top_10_categorical_accuracy: 0.1100 - factorized_top_k/top_50_categorical_accuracy: 0.4900 - factorized_top_k/top_100_categorical_accuracy: 0.9900 - loss: 460.5171 - regularization_loss: 0.0000e+00 - total_loss: 460.5171\n",
            "Epoch 34/50\n",
            "1/1 [==============================] - 0s 63ms/step - factorized_top_k/top_1_categorical_accuracy: 0.0100 - factorized_top_k/top_5_categorical_accuracy: 0.0500 - factorized_top_k/top_10_categorical_accuracy: 0.1100 - factorized_top_k/top_50_categorical_accuracy: 0.4900 - factorized_top_k/top_100_categorical_accuracy: 0.9900 - loss: 460.5170 - regularization_loss: 0.0000e+00 - total_loss: 460.5170\n",
            "Epoch 35/50\n",
            "1/1 [==============================] - 0s 63ms/step - factorized_top_k/top_1_categorical_accuracy: 0.0100 - factorized_top_k/top_5_categorical_accuracy: 0.0500 - factorized_top_k/top_10_categorical_accuracy: 0.1000 - factorized_top_k/top_50_categorical_accuracy: 0.4900 - factorized_top_k/top_100_categorical_accuracy: 0.9900 - loss: 460.5171 - regularization_loss: 0.0000e+00 - total_loss: 460.5171\n",
            "Epoch 36/50\n",
            "1/1 [==============================] - 0s 60ms/step - factorized_top_k/top_1_categorical_accuracy: 0.0100 - factorized_top_k/top_5_categorical_accuracy: 0.0500 - factorized_top_k/top_10_categorical_accuracy: 0.1100 - factorized_top_k/top_50_categorical_accuracy: 0.5000 - factorized_top_k/top_100_categorical_accuracy: 0.9900 - loss: 460.5171 - regularization_loss: 0.0000e+00 - total_loss: 460.5171\n",
            "Epoch 37/50\n",
            "1/1 [==============================] - 0s 62ms/step - factorized_top_k/top_1_categorical_accuracy: 0.0100 - factorized_top_k/top_5_categorical_accuracy: 0.0500 - factorized_top_k/top_10_categorical_accuracy: 0.1300 - factorized_top_k/top_50_categorical_accuracy: 0.5000 - factorized_top_k/top_100_categorical_accuracy: 0.9900 - loss: 460.5170 - regularization_loss: 0.0000e+00 - total_loss: 460.5170\n",
            "Epoch 38/50\n",
            "1/1 [==============================] - 0s 68ms/step - factorized_top_k/top_1_categorical_accuracy: 0.0100 - factorized_top_k/top_5_categorical_accuracy: 0.0500 - factorized_top_k/top_10_categorical_accuracy: 0.1000 - factorized_top_k/top_50_categorical_accuracy: 0.5000 - factorized_top_k/top_100_categorical_accuracy: 0.9900 - loss: 460.5170 - regularization_loss: 0.0000e+00 - total_loss: 460.5170\n",
            "Epoch 39/50\n",
            "1/1 [==============================] - 0s 63ms/step - factorized_top_k/top_1_categorical_accuracy: 0.0100 - factorized_top_k/top_5_categorical_accuracy: 0.0500 - factorized_top_k/top_10_categorical_accuracy: 0.1000 - factorized_top_k/top_50_categorical_accuracy: 0.5000 - factorized_top_k/top_100_categorical_accuracy: 0.9900 - loss: 460.5170 - regularization_loss: 0.0000e+00 - total_loss: 460.5170\n",
            "Epoch 40/50\n",
            "1/1 [==============================] - 0s 62ms/step - factorized_top_k/top_1_categorical_accuracy: 0.0100 - factorized_top_k/top_5_categorical_accuracy: 0.0500 - factorized_top_k/top_10_categorical_accuracy: 0.1000 - factorized_top_k/top_50_categorical_accuracy: 0.5000 - factorized_top_k/top_100_categorical_accuracy: 0.9900 - loss: 460.5171 - regularization_loss: 0.0000e+00 - total_loss: 460.5171\n",
            "Epoch 41/50\n",
            "1/1 [==============================] - 0s 62ms/step - factorized_top_k/top_1_categorical_accuracy: 0.0200 - factorized_top_k/top_5_categorical_accuracy: 0.0500 - factorized_top_k/top_10_categorical_accuracy: 0.1000 - factorized_top_k/top_50_categorical_accuracy: 0.5000 - factorized_top_k/top_100_categorical_accuracy: 0.9900 - loss: 460.5170 - regularization_loss: 0.0000e+00 - total_loss: 460.5170\n",
            "Epoch 42/50\n",
            "1/1 [==============================] - 0s 62ms/step - factorized_top_k/top_1_categorical_accuracy: 0.0200 - factorized_top_k/top_5_categorical_accuracy: 0.0500 - factorized_top_k/top_10_categorical_accuracy: 0.1000 - factorized_top_k/top_50_categorical_accuracy: 0.5000 - factorized_top_k/top_100_categorical_accuracy: 0.9900 - loss: 460.5170 - regularization_loss: 0.0000e+00 - total_loss: 460.5170\n",
            "Epoch 43/50\n",
            "1/1 [==============================] - 0s 64ms/step - factorized_top_k/top_1_categorical_accuracy: 0.0200 - factorized_top_k/top_5_categorical_accuracy: 0.0500 - factorized_top_k/top_10_categorical_accuracy: 0.1000 - factorized_top_k/top_50_categorical_accuracy: 0.5000 - factorized_top_k/top_100_categorical_accuracy: 0.9900 - loss: 460.5170 - regularization_loss: 0.0000e+00 - total_loss: 460.5170\n",
            "Epoch 44/50\n",
            "1/1 [==============================] - 0s 65ms/step - factorized_top_k/top_1_categorical_accuracy: 0.0200 - factorized_top_k/top_5_categorical_accuracy: 0.0500 - factorized_top_k/top_10_categorical_accuracy: 0.1000 - factorized_top_k/top_50_categorical_accuracy: 0.5000 - factorized_top_k/top_100_categorical_accuracy: 0.9900 - loss: 460.5171 - regularization_loss: 0.0000e+00 - total_loss: 460.5171\n",
            "Epoch 45/50\n",
            "1/1 [==============================] - 0s 66ms/step - factorized_top_k/top_1_categorical_accuracy: 0.0200 - factorized_top_k/top_5_categorical_accuracy: 0.0500 - factorized_top_k/top_10_categorical_accuracy: 0.1000 - factorized_top_k/top_50_categorical_accuracy: 0.5000 - factorized_top_k/top_100_categorical_accuracy: 0.9900 - loss: 460.5170 - regularization_loss: 0.0000e+00 - total_loss: 460.5170\n",
            "Epoch 46/50\n",
            "1/1 [==============================] - 0s 64ms/step - factorized_top_k/top_1_categorical_accuracy: 0.0200 - factorized_top_k/top_5_categorical_accuracy: 0.0500 - factorized_top_k/top_10_categorical_accuracy: 0.1100 - factorized_top_k/top_50_categorical_accuracy: 0.5000 - factorized_top_k/top_100_categorical_accuracy: 0.9900 - loss: 460.5170 - regularization_loss: 0.0000e+00 - total_loss: 460.5170\n",
            "Epoch 47/50\n",
            "1/1 [==============================] - 0s 63ms/step - factorized_top_k/top_1_categorical_accuracy: 0.0200 - factorized_top_k/top_5_categorical_accuracy: 0.0500 - factorized_top_k/top_10_categorical_accuracy: 0.1000 - factorized_top_k/top_50_categorical_accuracy: 0.5000 - factorized_top_k/top_100_categorical_accuracy: 0.9900 - loss: 460.5171 - regularization_loss: 0.0000e+00 - total_loss: 460.5171\n",
            "Epoch 48/50\n",
            "1/1 [==============================] - 0s 64ms/step - factorized_top_k/top_1_categorical_accuracy: 0.0200 - factorized_top_k/top_5_categorical_accuracy: 0.0500 - factorized_top_k/top_10_categorical_accuracy: 0.1100 - factorized_top_k/top_50_categorical_accuracy: 0.5000 - factorized_top_k/top_100_categorical_accuracy: 0.9900 - loss: 460.5170 - regularization_loss: 0.0000e+00 - total_loss: 460.5170\n",
            "Epoch 49/50\n",
            "1/1 [==============================] - 0s 75ms/step - factorized_top_k/top_1_categorical_accuracy: 0.0200 - factorized_top_k/top_5_categorical_accuracy: 0.0500 - factorized_top_k/top_10_categorical_accuracy: 0.1000 - factorized_top_k/top_50_categorical_accuracy: 0.5000 - factorized_top_k/top_100_categorical_accuracy: 0.9900 - loss: 460.5170 - regularization_loss: 0.0000e+00 - total_loss: 460.5170\n",
            "Epoch 50/50\n",
            "1/1 [==============================] - 0s 67ms/step - factorized_top_k/top_1_categorical_accuracy: 0.0200 - factorized_top_k/top_5_categorical_accuracy: 0.0500 - factorized_top_k/top_10_categorical_accuracy: 0.1000 - factorized_top_k/top_50_categorical_accuracy: 0.5000 - factorized_top_k/top_100_categorical_accuracy: 0.9900 - loss: 460.5171 - regularization_loss: 0.0000e+00 - total_loss: 460.5171\n"
          ]
        },
        {
          "output_type": "execute_result",
          "data": {
            "text/plain": [
              "<keras.callbacks.History at 0x7f0027e35f30>"
            ]
          },
          "metadata": {},
          "execution_count": 19
        }
      ]
    },
    {
      "cell_type": "code",
      "source": [
        "# Use brute-force search to set up retrieval using the trained representations.\n",
        "index = tfrs.layers.factorized_top_k.BruteForce(model.skill_model)\n",
        "index.index_from_dataset(\n",
        "    user.batch(100).map(lambda x: (x['id'], model.user_model(x['id'])))\n",
        ")\n",
        "\n",
        "# Get some recommendations.\n",
        "ids = tf.constant([\"yn45\"])\n",
        "_, titles = index(tf.constant(ids))\n",
        "for i in range(len(ids)):\n",
        "    print(f\"Recommendations for user id {ids[i].numpy()}: {titles[i].numpy()}\")"
      ],
      "metadata": {
        "colab": {
          "base_uri": "https://localhost:8080/"
        },
        "id": "oDK3THfpl2zp",
        "outputId": "f41481d8-f94f-4343-874b-e45951f0eff2"
      },
      "execution_count": null,
      "outputs": [
        {
          "output_type": "stream",
          "name": "stdout",
          "text": [
            "Recommendations for user id b'yn45': [b'JJY397' b'JFZ010' b'ADJ404' b'HKX026' b'GPS072' b'IHO320' b'DKX403'\n",
            " b'FGA047' b'DUC127' b'XLE736']\n"
          ]
        }
      ]
    },
    {
      "cell_type": "code",
      "source": [
        "def recommend(id):\n",
        "    # Use brute-force search to set up retrieval using the trained representations.\n",
        "    index = tfrs.layers.factorized_top_k.BruteForce(model.skill_model)\n",
        "    index.index_from_dataset(\n",
        "        user.batch(100).map(lambda x: (x['id'], model.user_model(x['id'])))\n",
        "    )\n",
        "    \n",
        "    # Get recommendations for the given user ID.\n",
        "    ids = tf.constant([id])\n",
        "    _, titles = index(tf.constant(ids))\n",
        "    \n",
        "    # Print the recommendations.\n",
        "    recommendations = titles.numpy().tolist()\n",
        "    return recommendations\n",
        "  "
      ],
      "metadata": {
        "id": "Ib_DW-5aLTL9"
      },
      "execution_count": null,
      "outputs": []
    },
    {
      "cell_type": "code",
      "source": [
        "recommend('yn45')"
      ],
      "metadata": {
        "colab": {
          "base_uri": "https://localhost:8080/"
        },
        "id": "aKZJD8WpKeWz",
        "outputId": "25c70d73-3705-4d20-9ea8-1307e855c4a9"
      },
      "execution_count": null,
      "outputs": [
        {
          "output_type": "execute_result",
          "data": {
            "text/plain": [
              "[[b'JJY397',\n",
              "  b'JFZ010',\n",
              "  b'ADJ404',\n",
              "  b'HKX026',\n",
              "  b'GPS072',\n",
              "  b'IHO320',\n",
              "  b'DKX403',\n",
              "  b'FGA047',\n",
              "  b'DUC127',\n",
              "  b'XLE736']]"
            ]
          },
          "metadata": {},
          "execution_count": 24
        }
      ]
    },
    {
      "cell_type": "code",
      "source": [],
      "metadata": {
        "id": "pP-LO9LkKiJc"
      },
      "execution_count": null,
      "outputs": []
    }
  ],
  "metadata": {
    "colab": {
      "provenance": []
    },
    "kernelspec": {
      "display_name": "Python 3",
      "name": "python3"
    },
    "language_info": {
      "name": "python"
    }
  },
  "nbformat": 4,
  "nbformat_minor": 0
}